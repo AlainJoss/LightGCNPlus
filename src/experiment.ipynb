{
 "cells": [
  {
   "cell_type": "markdown",
   "metadata": {},
   "source": [
    "# Test repository in the building process"
   ]
  },
  {
   "cell_type": "code",
   "execution_count": 1,
   "metadata": {},
   "outputs": [],
   "source": [
    "import torch\n",
    "from torch import nn\n",
    "import pandas as pd\n",
    "from matplotlib import pyplot as plt"
   ]
  },
  {
   "cell_type": "markdown",
   "metadata": {},
   "source": [
    "### 1. Preprocessing"
   ]
  },
  {
   "cell_type": "code",
   "execution_count": 2,
   "metadata": {},
   "outputs": [],
   "source": [
    "# Load\n",
    "from load import load_data\n",
    "train_df, submission_df = load_data()"
   ]
  },
  {
   "cell_type": "code",
   "execution_count": 3,
   "metadata": {},
   "outputs": [],
   "source": [
    "from preprocess import preprocess\n",
    "\n",
    "A_tilde, standardized_train_ratings, train_users, train_items, means, stds, val_users, val_items, standardized_val_ratings, submission_users, submission_items = preprocess((train_df, submission_df))"
   ]
  },
  {
   "cell_type": "markdown",
   "metadata": {},
   "source": [
    "### 2. Training\n",
    "\n",
    "HP: L=1, K=30, INIT_EMBS_STD=0.01, LR=0.05, WEIGHT_DECAY=1e-05"
   ]
  },
  {
   "cell_type": "code",
   "execution_count": 4,
   "metadata": {},
   "outputs": [],
   "source": [
    "# Model and optimizer hyperparameters\n",
    "L=1\n",
    "K=30\n",
    "INIT_EMBS_STD=0.01\n",
    "LR=0.05\n",
    "WEIGHT_DECAY=1e-05\n",
    "DROPOUT=0.2\n",
    "\n",
    "# Train loop hyperparameters\n",
    "EPOCHS=200\n",
    "STOP_THRESHOLD=1e-06"
   ]
  },
  {
   "cell_type": "code",
   "execution_count": 5,
   "metadata": {},
   "outputs": [],
   "source": [
    "from train import train_model\n",
    "from models import ConcatNonLinear\n",
    "from config import DEVICE\n",
    "\n",
    "model = ConcatNonLinear(A_tilde, K, L, INIT_EMBS_STD, DROPOUT).to(DEVICE)\n",
    "optimizer = torch.optim.Adam(model.parameters(), lr=LR, weight_decay=WEIGHT_DECAY)\n",
    "loss_fn = nn.MSELoss()"
   ]
  },
  {
   "cell_type": "code",
   "execution_count": 6,
   "metadata": {},
   "outputs": [
    {
     "name": "stdout",
     "output_type": "stream",
     "text": [
      "Epoch 0 - Train loss: 1.0212 - Val loss: 1.0082\n",
      "Epoch 1 - Train loss: 0.9952 - Val loss: 0.9685\n",
      "Epoch 2 - Train loss: 0.9529 - Val loss: 1.0604\n",
      "Epoch 3 - Train loss: 1.0371 - Val loss: 1.0264\n",
      "Epoch 4 - Train loss: 1.0091 - Val loss: 0.9781\n",
      "Epoch 5 - Train loss: 0.9616 - Val loss: 0.9741\n",
      "Epoch 6 - Train loss: 0.9586 - Val loss: 0.9828\n",
      "Epoch 7 - Train loss: 0.9672 - Val loss: 0.9809\n",
      "Epoch 8 - Train loss: 0.9647 - Val loss: 0.9718\n",
      "Epoch 9 - Train loss: 0.9549 - Val loss: 0.9619\n",
      "Epoch 10 - Train loss: 0.9442 - Val loss: 0.9554\n",
      "Epoch 11 - Train loss: 0.9367 - Val loss: 0.9546\n",
      "Epoch 12 - Train loss: 0.9345 - Val loss: 0.9582\n",
      "Epoch 13 - Train loss: 0.9372 - Val loss: 0.9560\n",
      "Epoch 14 - Train loss: 0.9349 - Val loss: 0.9484\n",
      "Epoch 15 - Train loss: 0.9283 - Val loss: 0.9486\n",
      "Epoch 16 - Train loss: 0.9294 - Val loss: 0.9532\n",
      "Epoch 17 - Train loss: 0.9342 - Val loss: 0.9537\n",
      "Epoch 18 - Train loss: 0.9344 - Val loss: 0.9506\n",
      "Epoch 19 - Train loss: 0.9304 - Val loss: 0.9485\n",
      "Epoch 20 - Train loss: 0.9275 - Val loss: 0.9487\n",
      "Epoch 21 - Train loss: 0.9271 - Val loss: 0.9495\n",
      "Epoch 22 - Train loss: 0.9278 - Val loss: 0.9491\n",
      "Epoch 23 - Train loss: 0.9272 - Val loss: 0.9478\n",
      "Epoch 24 - Train loss: 0.9263 - Val loss: 0.9476\n",
      "Epoch 25 - Train loss: 0.9265 - Val loss: 0.9483\n",
      "Epoch 26 - Train loss: 0.9274 - Val loss: 0.9471\n",
      "Epoch 27 - Train loss: 0.9270 - Val loss: 0.9441\n",
      "Epoch 28 - Train loss: 0.9244 - Val loss: 0.9430\n",
      "Epoch 29 - Train loss: 0.9236 - Val loss: 0.9440\n",
      "Epoch 30 - Train loss: 0.9240 - Val loss: 0.9443\n",
      "Epoch 31 - Train loss: 0.9225 - Val loss: 0.9451\n",
      "Epoch 32 - Train loss: 0.9218 - Val loss: 0.9456\n",
      "Epoch 33 - Train loss: 0.9212 - Val loss: 0.9452\n",
      "Epoch 34 - Train loss: 0.9206 - Val loss: 0.9445\n",
      "Epoch 35 - Train loss: 0.9191 - Val loss: 0.9432\n",
      "Epoch 36 - Train loss: 0.9170 - Val loss: 0.9433\n",
      "Epoch 37 - Train loss: 0.9156 - Val loss: 0.9426\n",
      "Epoch 38 - Train loss: 0.9143 - Val loss: 0.9417\n",
      "Epoch 39 - Train loss: 0.9125 - Val loss: 0.9416\n",
      "Epoch 40 - Train loss: 0.9116 - Val loss: 0.9418\n",
      "Epoch 41 - Train loss: 0.9104 - Val loss: 0.9419\n",
      "Epoch 42 - Train loss: 0.9091 - Val loss: 0.9408\n",
      "Epoch 43 - Train loss: 0.9079 - Val loss: 0.9392\n",
      "Epoch 44 - Train loss: 0.9074 - Val loss: 0.9383\n",
      "Epoch 45 - Train loss: 0.9065 - Val loss: 0.9389\n",
      "Epoch 46 - Train loss: 0.9058 - Val loss: 0.9397\n",
      "Epoch 47 - Train loss: 0.9055 - Val loss: 0.9391\n",
      "Epoch 48 - Train loss: 0.9050 - Val loss: 0.9376\n",
      "Epoch 49 - Train loss: 0.9044 - Val loss: 0.9358\n",
      "Epoch 50 - Train loss: 0.9039 - Val loss: 0.9343\n",
      "Epoch 51 - Train loss: 0.9033 - Val loss: 0.9338\n",
      "Epoch 52 - Train loss: 0.9026 - Val loss: 0.9335\n",
      "Epoch 53 - Train loss: 0.9022 - Val loss: 0.9335\n",
      "Epoch 54 - Train loss: 0.9014 - Val loss: 0.9339\n",
      "Epoch 55 - Train loss: 0.9004 - Val loss: 0.9346\n",
      "Epoch 56 - Train loss: 0.8991 - Val loss: 0.9344\n",
      "Epoch 57 - Train loss: 0.8972 - Val loss: 0.9321\n",
      "Epoch 58 - Train loss: 0.8947 - Val loss: 0.9293\n",
      "Epoch 59 - Train loss: 0.8917 - Val loss: 0.9270\n",
      "Epoch 60 - Train loss: 0.8886 - Val loss: 0.9265\n",
      "Epoch 61 - Train loss: 0.8863 - Val loss: 0.9274\n",
      "Epoch 62 - Train loss: 0.8847 - Val loss: 0.9289\n",
      "Epoch 63 - Train loss: 0.8839 - Val loss: 0.9287\n",
      "Epoch 64 - Train loss: 0.8831 - Val loss: 0.9266\n",
      "Epoch 65 - Train loss: 0.8817 - Val loss: 0.9232\n",
      "Epoch 66 - Train loss: 0.8805 - Val loss: 0.9217\n",
      "Epoch 67 - Train loss: 0.8804 - Val loss: 0.9208\n",
      "Epoch 68 - Train loss: 0.8799 - Val loss: 0.9186\n",
      "Epoch 69 - Train loss: 0.8792 - Val loss: 0.9170\n",
      "Epoch 70 - Train loss: 0.8787 - Val loss: 0.9176\n",
      "Epoch 71 - Train loss: 0.8774 - Val loss: 0.9201\n",
      "Epoch 72 - Train loss: 0.8774 - Val loss: 0.9213\n",
      "Epoch 73 - Train loss: 0.8767 - Val loss: 0.9212\n",
      "Epoch 74 - Train loss: 0.8761 - Val loss: 0.9213\n",
      "Epoch 75 - Train loss: 0.8752 - Val loss: 0.9214\n",
      "Epoch 76 - Train loss: 0.8746 - Val loss: 0.9220\n",
      "Epoch 77 - Train loss: 0.8739 - Val loss: 0.9234\n",
      "Epoch 78 - Train loss: 0.8732 - Val loss: 0.9248\n",
      "Epoch 79 - Train loss: 0.8726 - Val loss: 0.9243\n",
      "Epoch 80 - Train loss: 0.8717 - Val loss: 0.9228\n",
      "Epoch 81 - Train loss: 0.8709 - Val loss: 0.9216\n",
      "Epoch 82 - Train loss: 0.8704 - Val loss: 0.9215\n",
      "Epoch 83 - Train loss: 0.8700 - Val loss: 0.9230\n",
      "Epoch 84 - Train loss: 0.8693 - Val loss: 0.9236\n",
      "Epoch 85 - Train loss: 0.8684 - Val loss: 0.9237\n",
      "Epoch 86 - Train loss: 0.8682 - Val loss: 0.9239\n",
      "Epoch 87 - Train loss: 0.8681 - Val loss: 0.9235\n",
      "Epoch 88 - Train loss: 0.8673 - Val loss: 0.9225\n",
      "Epoch 89 - Train loss: 0.8670 - Val loss: 0.9208\n",
      "Epoch 90 - Train loss: 0.8662 - Val loss: 0.9200\n",
      "Epoch 91 - Train loss: 0.8662 - Val loss: 0.9197\n",
      "Epoch 92 - Train loss: 0.8655 - Val loss: 0.9213\n",
      "Epoch 93 - Train loss: 0.8654 - Val loss: 0.9217\n",
      "Epoch 94 - Train loss: 0.8648 - Val loss: 0.9232\n",
      "Epoch 95 - Train loss: 0.8643 - Val loss: 0.9223\n",
      "Epoch 96 - Train loss: 0.8640 - Val loss: 0.9211\n",
      "Epoch 97 - Train loss: 0.8629 - Val loss: 0.9207\n",
      "Epoch 98 - Train loss: 0.8621 - Val loss: 0.9228\n",
      "Epoch 99 - Train loss: 0.8612 - Val loss: 0.9235\n",
      "Epoch 100 - Train loss: 0.8603 - Val loss: 0.9235\n",
      "Epoch 101 - Train loss: 0.8593 - Val loss: 0.9229\n",
      "Epoch 102 - Train loss: 0.8587 - Val loss: 0.9218\n",
      "Epoch 103 - Train loss: 0.8579 - Val loss: 0.9214\n",
      "Epoch 104 - Train loss: 0.8565 - Val loss: 0.9213\n",
      "Epoch 105 - Train loss: 0.8556 - Val loss: 0.9229\n",
      "Epoch 106 - Train loss: 0.8545 - Val loss: 0.9267\n",
      "Epoch 107 - Train loss: 0.8535 - Val loss: 0.9281\n",
      "Epoch 108 - Train loss: 0.8523 - Val loss: 0.9276\n",
      "Epoch 109 - Train loss: 0.8519 - Val loss: 0.9265\n",
      "Epoch 110 - Train loss: 0.8507 - Val loss: 0.9249\n",
      "Epoch 111 - Train loss: 0.8501 - Val loss: 0.9248\n",
      "Epoch 112 - Train loss: 0.8494 - Val loss: 0.9261\n",
      "Epoch 113 - Train loss: 0.8479 - Val loss: 0.9279\n",
      "Epoch 114 - Train loss: 0.8477 - Val loss: 0.9290\n",
      "Epoch 115 - Train loss: 0.8466 - Val loss: 0.9276\n",
      "Epoch 116 - Train loss: 0.8452 - Val loss: 0.9275\n",
      "Epoch 117 - Train loss: 0.8446 - Val loss: 0.9292\n",
      "Epoch 118 - Train loss: 0.8437 - Val loss: 0.9321\n",
      "Epoch 119 - Train loss: 0.8429 - Val loss: 0.9338\n",
      "Epoch 120 - Train loss: 0.8421 - Val loss: 0.9330\n",
      "Epoch 121 - Train loss: 0.8415 - Val loss: 0.9325\n",
      "Epoch 122 - Train loss: 0.8412 - Val loss: 0.9307\n",
      "Epoch 123 - Train loss: 0.8407 - Val loss: 0.9311\n",
      "Epoch 124 - Train loss: 0.8392 - Val loss: 0.9299\n",
      "Epoch 125 - Train loss: 0.8394 - Val loss: 0.9298\n",
      "Epoch 126 - Train loss: 0.8385 - Val loss: 0.9294\n",
      "Epoch 127 - Train loss: 0.8379 - Val loss: 0.9305\n",
      "Epoch 128 - Train loss: 0.8375 - Val loss: 0.9293\n",
      "Epoch 129 - Train loss: 0.8368 - Val loss: 0.9286\n",
      "Epoch 130 - Train loss: 0.8362 - Val loss: 0.9284\n",
      "Epoch 131 - Train loss: 0.8356 - Val loss: 0.9307\n",
      "Epoch 132 - Train loss: 0.8353 - Val loss: 0.9309\n",
      "Epoch 133 - Train loss: 0.8348 - Val loss: 0.9314\n",
      "Epoch 134 - Train loss: 0.8347 - Val loss: 0.9297\n",
      "Epoch 135 - Train loss: 0.8342 - Val loss: 0.9299\n",
      "Epoch 136 - Train loss: 0.8342 - Val loss: 0.9275\n",
      "Epoch 137 - Train loss: 0.8336 - Val loss: 0.9292\n",
      "Epoch 138 - Train loss: 0.8333 - Val loss: 0.9312\n",
      "Epoch 139 - Train loss: 0.8327 - Val loss: 0.9337\n",
      "Epoch 140 - Train loss: 0.8324 - Val loss: 0.9333\n",
      "Epoch 141 - Train loss: 0.8311 - Val loss: 0.9323\n",
      "Epoch 142 - Train loss: 0.8306 - Val loss: 0.9297\n",
      "Epoch 143 - Train loss: 0.8293 - Val loss: 0.9293\n",
      "Epoch 144 - Train loss: 0.8293 - Val loss: 0.9308\n",
      "Epoch 145 - Train loss: 0.8287 - Val loss: 0.9323\n",
      "Epoch 146 - Train loss: 0.8285 - Val loss: 0.9329\n",
      "Epoch 147 - Train loss: 0.8272 - Val loss: 0.9305\n",
      "Epoch 148 - Train loss: 0.8276 - Val loss: 0.9304\n",
      "Epoch 149 - Train loss: 0.8269 - Val loss: 0.9310\n",
      "Epoch 150 - Train loss: 0.8265 - Val loss: 0.9328\n",
      "Epoch 151 - Train loss: 0.8261 - Val loss: 0.9308\n",
      "Epoch 152 - Train loss: 0.8260 - Val loss: 0.9322\n",
      "Epoch 153 - Train loss: 0.8257 - Val loss: 0.9328\n",
      "Epoch 154 - Train loss: 0.8261 - Val loss: 0.9379\n",
      "Epoch 155 - Train loss: 0.8265 - Val loss: 0.9361\n",
      "Epoch 156 - Train loss: 0.8253 - Val loss: 0.9370\n",
      "Epoch 157 - Train loss: 0.8247 - Val loss: 0.9338\n",
      "Epoch 158 - Train loss: 0.8232 - Val loss: 0.9338\n",
      "Epoch 159 - Train loss: 0.8227 - Val loss: 0.9340\n",
      "Epoch 160 - Train loss: 0.8220 - Val loss: 0.9345\n",
      "Epoch 161 - Train loss: 0.8219 - Val loss: 0.9381\n",
      "Epoch 162 - Train loss: 0.8217 - Val loss: 0.9373\n",
      "Epoch 163 - Train loss: 0.8217 - Val loss: 0.9365\n",
      "Epoch 164 - Train loss: 0.8221 - Val loss: 0.9324\n",
      "Epoch 165 - Train loss: 0.8208 - Val loss: 0.9310\n",
      "Epoch 166 - Train loss: 0.8204 - Val loss: 0.9307\n",
      "Epoch 167 - Train loss: 0.8202 - Val loss: 0.9317\n",
      "Epoch 168 - Train loss: 0.8196 - Val loss: 0.9319\n",
      "Epoch 169 - Train loss: 0.8192 - Val loss: 0.9309\n",
      "Epoch 170 - Train loss: 0.8188 - Val loss: 0.9323\n",
      "Epoch 171 - Train loss: 0.8190 - Val loss: 0.9337\n",
      "Epoch 172 - Train loss: 0.8188 - Val loss: 0.9367\n",
      "Epoch 173 - Train loss: 0.8188 - Val loss: 0.9358\n",
      "Epoch 174 - Train loss: 0.8190 - Val loss: 0.9358\n",
      "Epoch 175 - Train loss: 0.8187 - Val loss: 0.9339\n",
      "Epoch 176 - Train loss: 0.8190 - Val loss: 0.9363\n",
      "Epoch 177 - Train loss: 0.8193 - Val loss: 0.9354\n",
      "Epoch 178 - Train loss: 0.8193 - Val loss: 0.9383\n",
      "Epoch 179 - Train loss: 0.8187 - Val loss: 0.9363\n",
      "Epoch 180 - Train loss: 0.8175 - Val loss: 0.9389\n",
      "Epoch 181 - Train loss: 0.8160 - Val loss: 0.9385\n",
      "Epoch 182 - Train loss: 0.8146 - Val loss: 0.9372\n",
      "Epoch 183 - Train loss: 0.8140 - Val loss: 0.9378\n",
      "Epoch 184 - Train loss: 0.8142 - Val loss: 0.9379\n",
      "Epoch 185 - Train loss: 0.8141 - Val loss: 0.9391\n",
      "Epoch 186 - Train loss: 0.8145 - Val loss: 0.9374\n",
      "Epoch 187 - Train loss: 0.8141 - Val loss: 0.9394\n",
      "Epoch 188 - Train loss: 0.8127 - Val loss: 0.9381\n",
      "Epoch 189 - Train loss: 0.8117 - Val loss: 0.9388\n",
      "Epoch 190 - Train loss: 0.8114 - Val loss: 0.9403\n",
      "Epoch 191 - Train loss: 0.8111 - Val loss: 0.9430\n",
      "Epoch 192 - Train loss: 0.8103 - Val loss: 0.9445\n",
      "Epoch 193 - Train loss: 0.8101 - Val loss: 0.9411\n",
      "Epoch 194 - Train loss: 0.8105 - Val loss: 0.9402\n",
      "Epoch 195 - Train loss: 0.8103 - Val loss: 0.9379\n",
      "Epoch 196 - Train loss: 0.8101 - Val loss: 0.9401\n",
      "Epoch 197 - Train loss: 0.8099 - Val loss: 0.9401\n",
      "Epoch 198 - Train loss: 0.8113 - Val loss: 0.9450\n",
      "Epoch 199 - Train loss: 0.8127 - Val loss: 0.9434\n",
      "Epoch 200 - Train loss: 0.8159 - Val loss: 0.9471\n",
      "Epoch 201 - Train loss: 0.8158 - Val loss: 0.9421\n",
      "Epoch 202 - Train loss: 0.8134 - Val loss: 0.9426\n",
      "Epoch 203 - Train loss: 0.8087 - Val loss: 0.9446\n",
      "Epoch 204 - Train loss: 0.8070 - Val loss: 0.9459\n",
      "Epoch 205 - Train loss: 0.8099 - Val loss: 0.9480\n",
      "Epoch 206 - Train loss: 0.8100 - Val loss: 0.9443\n",
      "Epoch 207 - Train loss: 0.8069 - Val loss: 0.9473\n",
      "Epoch 208 - Train loss: 0.8050 - Val loss: 0.9510\n",
      "Epoch 209 - Train loss: 0.8064 - Val loss: 0.9486\n",
      "Epoch 210 - Train loss: 0.8078 - Val loss: 0.9450\n",
      "Epoch 211 - Train loss: 0.8046 - Val loss: 0.9436\n",
      "Epoch 212 - Train loss: 0.8034 - Val loss: 0.9463\n",
      "Epoch 213 - Train loss: 0.8044 - Val loss: 0.9488\n",
      "Epoch 214 - Train loss: 0.8042 - Val loss: 0.9458\n",
      "Epoch 215 - Train loss: 0.8027 - Val loss: 0.9467\n",
      "Epoch 216 - Train loss: 0.8014 - Val loss: 0.9497\n",
      "Epoch 217 - Train loss: 0.8021 - Val loss: 0.9498\n",
      "Epoch 218 - Train loss: 0.8021 - Val loss: 0.9508\n",
      "Epoch 219 - Train loss: 0.8015 - Val loss: 0.9478\n",
      "Epoch 220 - Train loss: 0.8003 - Val loss: 0.9472\n",
      "Epoch 221 - Train loss: 0.7998 - Val loss: 0.9486\n",
      "Epoch 222 - Train loss: 0.8002 - Val loss: 0.9500\n",
      "Epoch 223 - Train loss: 0.8004 - Val loss: 0.9546\n",
      "Epoch 224 - Train loss: 0.8006 - Val loss: 0.9531\n",
      "Epoch 225 - Train loss: 0.8000 - Val loss: 0.9525\n",
      "Epoch 226 - Train loss: 0.7988 - Val loss: 0.9504\n",
      "Epoch 227 - Train loss: 0.7987 - Val loss: 0.9521\n",
      "Epoch 228 - Train loss: 0.7981 - Val loss: 0.9544\n",
      "Epoch 229 - Train loss: 0.7984 - Val loss: 0.9533\n",
      "Epoch 230 - Train loss: 0.7986 - Val loss: 0.9531\n",
      "Epoch 231 - Train loss: 0.7984 - Val loss: 0.9506\n",
      "Epoch 232 - Train loss: 0.7993 - Val loss: 0.9525\n",
      "Epoch 233 - Train loss: 0.7993 - Val loss: 0.9515\n",
      "Epoch 234 - Train loss: 0.7995 - Val loss: 0.9571\n",
      "Epoch 235 - Train loss: 0.7995 - Val loss: 0.9559\n",
      "Epoch 236 - Train loss: 0.7997 - Val loss: 0.9580\n",
      "Epoch 237 - Train loss: 0.7996 - Val loss: 0.9540\n",
      "Epoch 238 - Train loss: 0.7989 - Val loss: 0.9560\n",
      "Epoch 239 - Train loss: 0.7986 - Val loss: 0.9535\n",
      "Epoch 240 - Train loss: 0.7980 - Val loss: 0.9541\n",
      "Epoch 241 - Train loss: 0.7971 - Val loss: 0.9534\n",
      "Epoch 242 - Train loss: 0.7964 - Val loss: 0.9533\n",
      "Epoch 243 - Train loss: 0.7965 - Val loss: 0.9524\n",
      "Epoch 244 - Train loss: 0.7964 - Val loss: 0.9503\n",
      "Epoch 245 - Train loss: 0.7967 - Val loss: 0.9523\n",
      "Epoch 246 - Train loss: 0.7964 - Val loss: 0.9524\n",
      "Epoch 247 - Train loss: 0.7971 - Val loss: 0.9540\n",
      "Epoch 248 - Train loss: 0.7961 - Val loss: 0.9512\n",
      "Epoch 249 - Train loss: 0.7964 - Val loss: 0.9521\n",
      "Epoch 250 - Train loss: 0.7959 - Val loss: 0.9506\n",
      "Epoch 251 - Train loss: 0.7955 - Val loss: 0.9520\n",
      "Epoch 252 - Train loss: 0.7956 - Val loss: 0.9501\n",
      "Epoch 253 - Train loss: 0.7953 - Val loss: 0.9508\n",
      "Epoch 254 - Train loss: 0.7957 - Val loss: 0.9482\n",
      "Epoch 255 - Train loss: 0.7955 - Val loss: 0.9490\n",
      "Epoch 256 - Train loss: 0.7957 - Val loss: 0.9477\n",
      "Epoch 257 - Train loss: 0.7948 - Val loss: 0.9521\n",
      "Epoch 258 - Train loss: 0.7953 - Val loss: 0.9528\n",
      "Epoch 259 - Train loss: 0.7955 - Val loss: 0.9547\n",
      "Epoch 260 - Train loss: 0.7955 - Val loss: 0.9507\n",
      "Epoch 261 - Train loss: 0.7954 - Val loss: 0.9521\n",
      "Epoch 262 - Train loss: 0.7948 - Val loss: 0.9485\n",
      "Epoch 263 - Train loss: 0.7947 - Val loss: 0.9520\n",
      "Epoch 264 - Train loss: 0.7943 - Val loss: 0.9522\n",
      "Epoch 265 - Train loss: 0.7940 - Val loss: 0.9543\n",
      "Epoch 266 - Train loss: 0.7935 - Val loss: 0.9521\n",
      "Epoch 267 - Train loss: 0.7923 - Val loss: 0.9532\n",
      "Epoch 268 - Train loss: 0.7920 - Val loss: 0.9541\n",
      "Epoch 269 - Train loss: 0.7923 - Val loss: 0.9522\n",
      "Epoch 270 - Train loss: 0.7920 - Val loss: 0.9527\n",
      "Epoch 271 - Train loss: 0.7918 - Val loss: 0.9520\n",
      "Epoch 272 - Train loss: 0.7924 - Val loss: 0.9535\n",
      "Epoch 273 - Train loss: 0.7926 - Val loss: 0.9529\n",
      "Epoch 274 - Train loss: 0.7936 - Val loss: 0.9578\n",
      "Epoch 275 - Train loss: 0.7936 - Val loss: 0.9564\n",
      "Epoch 276 - Train loss: 0.7948 - Val loss: 0.9590\n",
      "Epoch 277 - Train loss: 0.7952 - Val loss: 0.9554\n",
      "Epoch 278 - Train loss: 0.7942 - Val loss: 0.9562\n",
      "Epoch 279 - Train loss: 0.7923 - Val loss: 0.9531\n",
      "Epoch 280 - Train loss: 0.7902 - Val loss: 0.9528\n",
      "Epoch 281 - Train loss: 0.7895 - Val loss: 0.9526\n",
      "Epoch 282 - Train loss: 0.7900 - Val loss: 0.9534\n",
      "Epoch 283 - Train loss: 0.7912 - Val loss: 0.9563\n",
      "Epoch 284 - Train loss: 0.7918 - Val loss: 0.9529\n",
      "Epoch 285 - Train loss: 0.7907 - Val loss: 0.9499\n",
      "Epoch 286 - Train loss: 0.7897 - Val loss: 0.9480\n",
      "Epoch 287 - Train loss: 0.7884 - Val loss: 0.9499\n",
      "Epoch 288 - Train loss: 0.7888 - Val loss: 0.9513\n",
      "Epoch 289 - Train loss: 0.7883 - Val loss: 0.9527\n",
      "Epoch 290 - Train loss: 0.7888 - Val loss: 0.9555\n",
      "Epoch 291 - Train loss: 0.7886 - Val loss: 0.9537\n",
      "Epoch 292 - Train loss: 0.7885 - Val loss: 0.9542\n",
      "Epoch 293 - Train loss: 0.7879 - Val loss: 0.9518\n",
      "Epoch 294 - Train loss: 0.7867 - Val loss: 0.9515\n",
      "Epoch 295 - Train loss: 0.7863 - Val loss: 0.9507\n",
      "Epoch 296 - Train loss: 0.7865 - Val loss: 0.9507\n",
      "Epoch 297 - Train loss: 0.7858 - Val loss: 0.9526\n",
      "Epoch 298 - Train loss: 0.7860 - Val loss: 0.9532\n",
      "Epoch 299 - Train loss: 0.7860 - Val loss: 0.9566\n",
      "Final epoch 299 - Train loss: 0.7860 - Val loss: 0.9566\n"
     ]
    }
   ],
   "source": [
    "from train import train_model\n",
    "# model, optimizer, loss_fn, train_users, train_items, train_ratings, val_users, val_items, val_ratings, n_epochs, improvement_threshold) -> tuple[list, list]:\n",
    "train_rmse, val_rmse = train_model(model, optimizer, loss_fn, train_users, train_items, standardized_train_ratings, val_users, val_items, standardized_val_ratings, EPOCHS, STOP_THRESHOLD, save_best_model=True)"
   ]
  },
  {
   "cell_type": "markdown",
   "metadata": {},
   "source": [
    "### 3. Check training results"
   ]
  },
  {
   "cell_type": "code",
   "execution_count": 9,
   "metadata": {},
   "outputs": [
    {
     "name": "stdout",
     "output_type": "stream",
     "text": [
      "Min training loss: 0.7858244776725769\n",
      "Min validation loss: 0.9170255661010742\n",
      "Min validation loss at epoch: 69\n"
     ]
    },
    {
     "data": {
      "image/png": "[encoded data removed]",
      "text/plain": [
       "<Figure size 640x480 with 1 Axes>"
      ]
     },
     "metadata": {},
     "output_type": "display_data"
    }
   ],
   "source": [
    "# Training stats\n",
    "\n",
    "print(\"Min training loss:\", min(train_rmse))\n",
    "print(\"Min validation loss:\", min(val_rmse))\n",
    "print(\"Min validation loss at epoch:\", val_rmse.index(min(val_rmse)))\n",
    "\n",
    "# Replace values above 10 with 10 in the rmse lists\n",
    "train_rmse_plot = [min(1, x) for x in train_rmse]\n",
    "val_rmse = [min(1, x) for x in val_rmse]\n",
    "\n",
    "# Plot train and val rmse\n",
    "plt.plot(train_rmse_plot, label='train')\n",
    "plt.plot(val_rmse, label='val')\n",
    "# annotate min val loss\n",
    "plt.annotate(round(min(val_rmse), 4), (val_rmse.index(min(val_rmse)), min(val_rmse)), textcoords=\"offset points\", xytext=(0,-10), ha='center')\n",
    "\n",
    "\n",
    "plt.legend()\n",
    "plt.show()"
   ]
  },
  {
   "cell_type": "markdown",
   "metadata": {},
   "source": [
    "### 4. Post-processing"
   ]
  },
  {
   "cell_type": "code",
   "execution_count": 17,
   "metadata": {},
   "outputs": [],
   "source": [
    "# Read model that achieved best validation loss\n",
    "model.eval()\n",
    "model.load_state_dict(torch.load(\"../data/logs/best_val_model.pth\"))\n",
    "\n",
    "# Get predictions for submission\n",
    "final_ratings = model.get_ratings(submission_users, submission_items).cpu().detach().numpy()"
   ]
  },
  {
   "cell_type": "code",
   "execution_count": 18,
   "metadata": {},
   "outputs": [
    {
     "name": "stdout",
     "output_type": "stream",
     "text": [
      "min: -3.6163864\n",
      "max: 2.138516\n",
      "mean: 0.02609509\n"
     ]
    },
    {
     "data": {
      "image/png": "[encoded data removed]",
      "text/plain": [
       "<Figure size 640x480 with 1 Axes>"
      ]
     },
     "metadata": {},
     "output_type": "display_data"
    }
   ],
   "source": [
    "# Check min and max of final_ratings\n",
    "print(\"min:\", final_ratings.min())\n",
    "print(\"max:\", final_ratings.max())\n",
    "print(\"mean:\", final_ratings.mean())\n",
    "\n",
    "# Check distribution of final_ratings\n",
    "plt.hist(final_ratings.flatten(), bins=100)\n",
    "plt.show()"
   ]
  },
  {
   "cell_type": "code",
   "execution_count": 19,
   "metadata": {},
   "outputs": [],
   "source": [
    "import numpy as np\n",
    "from config import N_u, N_v\n",
    "# Reverse standardization\n",
    "\n",
    "# Fill matrix with predictions\n",
    "final_ratings_matrix = np.zeros((N_u, N_v))\n",
    "final_ratings_matrix[submission_users, submission_items] = final_ratings\n",
    "\n",
    "# Reverse standardization (no mask needed)\n",
    "def reverse_standardization(submission_matrix, means, stds):\n",
    "    # shape of all inputs: (n_users, n_items)\n",
    "    reversed_ratings = submission_matrix * stds + means\n",
    "    return reversed_ratings\n",
    "\n",
    "final_ratings_matrix = reverse_standardization(final_ratings_matrix, means, stds)\n",
    "\n",
    "# extract numpy array from ratings matrix\n",
    "final_ratings = final_ratings_matrix[submission_users, submission_items]"
   ]
  },
  {
   "cell_type": "code",
   "execution_count": 20,
   "metadata": {},
   "outputs": [
    {
     "name": "stdout",
     "output_type": "stream",
     "text": [
      "min: -0.838264647635977\n",
      "max: 5.9896689379528025\n",
      "mean: 3.88292001354896\n",
      "count_over_5: 22641\n",
      "count_under_1: 233\n"
     ]
    },
    {
     "ename": "TypeError",
     "evalue": "return arrays must be of ArrayType",
     "output_type": "error",
     "traceback": [
      "\u001b[0;31m---------------------------------------------------------------------------\u001b[0m",
      "\u001b[0;31mTypeError\u001b[0m                                 Traceback (most recent call last)",
      "Cell \u001b[0;32mIn[20], line 15\u001b[0m\n\u001b[1;32m     12\u001b[0m \u001b[38;5;28mprint\u001b[39m(\u001b[38;5;124m\"\u001b[39m\u001b[38;5;124mcount_under_1:\u001b[39m\u001b[38;5;124m\"\u001b[39m, count_under_1)\n\u001b[1;32m     14\u001b[0m \u001b[38;5;66;03m# Clip the values to be within the range [1, 5]\u001b[39;00m\n\u001b[0;32m---> 15\u001b[0m final_ratings \u001b[38;5;241m=\u001b[39m \u001b[43mfinal_ratings\u001b[49m\u001b[38;5;241;43m.\u001b[39;49m\u001b[43mclip\u001b[49m\u001b[43m(\u001b[49m\u001b[43mfinal_ratings\u001b[49m\u001b[43m,\u001b[49m\u001b[43m \u001b[49m\u001b[38;5;241;43m1\u001b[39;49m\u001b[43m,\u001b[49m\u001b[43m \u001b[49m\u001b[38;5;241;43m5\u001b[39;49m\u001b[43m)\u001b[49m\n",
      "File \u001b[0;32m~/Desktop/CIL-project/.venv/lib/python3.9/site-packages/numpy/_core/_methods.py:108\u001b[0m, in \u001b[0;36m_clip\u001b[0;34m(a, min, max, out, **kwargs)\u001b[0m\n\u001b[1;32m    106\u001b[0m     \u001b[38;5;28;01mreturn\u001b[39;00m um\u001b[38;5;241m.\u001b[39mmaximum(a, \u001b[38;5;28mmin\u001b[39m, out\u001b[38;5;241m=\u001b[39mout, \u001b[38;5;241m*\u001b[39m\u001b[38;5;241m*\u001b[39mkwargs)\n\u001b[1;32m    107\u001b[0m \u001b[38;5;28;01melse\u001b[39;00m:\n\u001b[0;32m--> 108\u001b[0m     \u001b[38;5;28;01mreturn\u001b[39;00m \u001b[43mum\u001b[49m\u001b[38;5;241;43m.\u001b[39;49m\u001b[43mclip\u001b[49m\u001b[43m(\u001b[49m\u001b[43ma\u001b[49m\u001b[43m,\u001b[49m\u001b[43m \u001b[49m\u001b[38;5;28;43mmin\u001b[39;49m\u001b[43m,\u001b[49m\u001b[43m \u001b[49m\u001b[38;5;28;43mmax\u001b[39;49m\u001b[43m,\u001b[49m\u001b[43m \u001b[49m\u001b[43mout\u001b[49m\u001b[38;5;241;43m=\u001b[39;49m\u001b[43mout\u001b[49m\u001b[43m,\u001b[49m\u001b[43m \u001b[49m\u001b[38;5;241;43m*\u001b[39;49m\u001b[38;5;241;43m*\u001b[39;49m\u001b[43mkwargs\u001b[49m\u001b[43m)\u001b[49m\n",
      "\u001b[0;31mTypeError\u001b[0m: return arrays must be of ArrayType"
     ]
    }
   ],
   "source": [
    "# Clip at 1 and 5\n",
    "\n",
    "# check min and max of final_ratings_rounded\n",
    "print(\"min:\", final_ratings.min().item())\n",
    "print(\"max:\", final_ratings.max().item())\n",
    "print(\"mean:\", final_ratings.mean().item())\n",
    "\n",
    "# Count the number of values under 1 and over 5\n",
    "count_under_1 = (final_ratings < 1).sum().item()\n",
    "count_over_5 = (final_ratings > 5).sum().item()\n",
    "print(\"count_over_5:\", count_over_5)\n",
    "print(\"count_under_1:\", count_under_1)\n",
    "\n",
    "# Clip the values to be within the range [1, 5]\n",
    "final_ratings = final_ratings.clip(final_ratings, 1, 5)"
   ]
  },
  {
   "cell_type": "code",
   "execution_count": 21,
   "metadata": {},
   "outputs": [
    {
     "name": "stdout",
     "output_type": "stream",
     "text": [
      "min: -0.838264647635977\n",
      "max: 5.9896689379528025\n",
      "mean: 3.88292001354896\n"
     ]
    },
    {
     "data": {
      "image/png": "[encoded data removed]",
      "text/plain": [
       "<Figure size 640x480 with 1 Axes>"
      ]
     },
     "metadata": {},
     "output_type": "display_data"
    }
   ],
   "source": [
    "# check min and max of final_ratings\n",
    "print(\"min:\", final_ratings.min().item())\n",
    "print(\"max:\", final_ratings.max().item())\n",
    "print(\"mean:\", final_ratings.mean().item())\n",
    "\n",
    "# check distribution of final_ratings\n",
    "plt.hist(final_ratings.flatten(), bins=100)\n",
    "plt.show()"
   ]
  },
  {
   "cell_type": "markdown",
   "metadata": {},
   "source": [
    "### 5. Submission"
   ]
  },
  {
   "cell_type": "code",
   "execution_count": 23,
   "metadata": {},
   "outputs": [],
   "source": [
    "# save submission\n",
    "def to_submission_format(users, movies, predictions):\n",
    "    return pd.DataFrame(data={'Id': ['r{}_c{}'.format(user + 1, movie + 1) for user, movie in zip(users, movies)],\n",
    "                              'Prediction': predictions})\n",
    "\n",
    "submission = to_submission_format(submission_users, submission_items, final_ratings)\n",
    "\n",
    "submission.to_csv('../data/submission_data/submission.csv', index=False)"
   ]
  },
  {
   "cell_type": "code",
   "execution_count": null,
   "metadata": {},
   "outputs": [],
   "source": []
  },
  {
   "cell_type": "code",
   "execution_count": null,
   "metadata": {},
   "outputs": [],
   "source": []
  }
 ],
 "metadata": {
  "kernelspec": {
   "display_name": "Python 3",
   "language": "python",
   "name": "python3"
  },
  "language_info": {
   "codemirror_mode": {
    "name": "ipython",
    "version": 3
   },
   "file_extension": ".py",
   "mimetype": "text/x-python",
   "name": "python",
   "nbconvert_exporter": "python",
   "pygments_lexer": "ipython3",
   "version": "3.9.6"
  }
 },
 "nbformat": 4,
 "nbformat_minor": 2
}
