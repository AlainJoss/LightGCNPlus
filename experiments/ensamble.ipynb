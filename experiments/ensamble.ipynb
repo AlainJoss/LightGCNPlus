{
 "cells": [
  {
   "cell_type": "markdown",
   "metadata": {},
   "source": [
    "# Ensamble of ensambles\n",
    "\n",
    "In this notebook we try to combine multiple models to decrease variants and thus improve the $\\text{RMSLE}$ score on Kaggle's leaderboard."
   ]
  },
  {
   "cell_type": "code",
   "execution_count": null,
   "metadata": {},
   "outputs": [],
   "source": [
    "#"
   ]
  }
 ],
 "metadata": {
  "language_info": {
   "name": "python"
  }
 },
 "nbformat": 4,
 "nbformat_minor": 2
}
