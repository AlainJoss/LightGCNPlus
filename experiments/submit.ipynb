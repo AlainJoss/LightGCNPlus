{
 "cells": [
  {
   "cell_type": "markdown",
   "metadata": {},
   "source": [
    "# Ensamble\n",
    "To create an ensamble model:\n",
    "- save validation set and train set into model_state\n",
    "- read validation set from model_state\n",
    "- split validation set into 2 parts\n",
    "- try different combinations of the models in loop on the first part of the validation set\n",
    "- use the second part of the validation set to evaluate the performance of the combination"
   ]
  },
  {
   "cell_type": "code",
   "execution_count": 9,
   "metadata": {},
   "outputs": [
    {
     "name": "stdout",
     "output_type": "stream",
     "text": [
      "<class 'numpy.ndarray'> (12001,)\n"
     ]
    }
   ],
   "source": [
    "# load validation set from \"../data/model_state/val_df.csv\"\n",
    "\n",
    "import pandas as pd\n",
    "import numpy as np\n",
    "\n",
    "val_df = pd.read_csv(\"../data/model_state/val_df.csv\")\n",
    "\n",
    "users = val_df[\"user\"].values\n",
    "items = val_df[\"item\"].values\n",
    "ratings = val_df[\"rating\"].values\n",
    "\n",
    "print(type(users), users.shape)"
   ]
  },
  {
   "cell_type": "code",
   "execution_count": 10,
   "metadata": {},
   "outputs": [
    {
     "name": "stdout",
     "output_type": "stream",
     "text": [
      "<class 'numpy.ndarray'> (6000,)\n"
     ]
    }
   ],
   "source": [
    "# split data into val and test\n",
    "from sklearn.model_selection import train_test_split\n",
    "TEST_SIZE = 0.5\n",
    "users_val, users_test, items_val, items_test, ratings_val, ratings_test = train_test_split(users, items, ratings, test_size=TEST_SIZE)\n",
    "\n",
    "print(type(users_val), users_val.shape)"
   ]
  },
  {
   "cell_type": "code",
   "execution_count": 21,
   "metadata": {},
   "outputs": [
    {
     "name": "stdout",
     "output_type": "stream",
     "text": [
      "Best weights found: [0.25085255 0.18017502 0.06760116 0.20603879 0.00458184 0.10751495\n",
      " 0.07237354 0.06760134 0.04326082]\n",
      "Test MSE: 0.9544785051674509\n",
      "Submission saved to '../data/submission_data/submission.csv'\n"
     ]
    }
   ],
   "source": [
    "import numpy as np\n",
    "from sklearn.metrics import mean_squared_error\n",
    "from scipy.optimize import minimize\n",
    "import torch\n",
    "from models import LightGCNPlus, load_best_val_model\n",
    "from postprocess import create_submission_matrix, load_means_stds, reverse_standardize, to_submission_format\n",
    "from load import load_submission_users_items\n",
    "\n",
    "DEVICE = torch.device('mps' if torch.cuda.is_available() else 'cpu')\n",
    "\n",
    "# Model IDs and configurations\n",
    "model_configs = [\n",
    "    (28, 5, (6, )),\n",
    "    (28, 4, (2,)),\n",
    "    (28, 5, (6, 1)),\n",
    "    (28, 4, (3,)),\n",
    "    (28, 4, (4,)),\n",
    "    (28, 4, (5,)),\n",
    "    (28, 4, (3, 1)),\n",
    "    (28, 5, (6, 1)),\n",
    "    (28, 4, (4, 1)),    # 0.9544785051674509\n",
    "    # (28, 4, (6,))  # 0.9544688824398718\n",
    "]\n",
    "\n",
    "\n",
    "def load_and_predict(model_class, config_id, users, items):\n",
    "    ID = f\"{config_id[0]}_{config_id[1]}_{str(config_id[2])}\"\n",
    "    model = load_best_val_model(model_class, ID)\n",
    "    raw_pred_ratings = model.get_ratings(users, items).detach().cpu().numpy()\n",
    "    raw_submission_matrix = create_submission_matrix(raw_pred_ratings, users, items)\n",
    "    means, stds = load_means_stds(ID)\n",
    "    submission_matrix = reverse_standardize(raw_submission_matrix, means, stds)\n",
    "    pred_ratings = submission_matrix[users, items]\n",
    "    pred_ratings = np.clip(pred_ratings, 1, 5)\n",
    "    return pred_ratings\n",
    "\n",
    "# Load and predict with each model for validation and test sets\n",
    "pred_ratings_list_val = [load_and_predict(LightGCNPlus, config, users_val, items_val) for config in model_configs]\n",
    "pred_ratings_list_test = [load_and_predict(LightGCNPlus, config, users_test, items_test) for config in model_configs]\n",
    "\n",
    "# Define the objective function for optimization\n",
    "def objective(weights, predictions, true_ratings):\n",
    "    ensemble_preds = np.sum(weights[:, None] * predictions, axis=0)\n",
    "    mse = mean_squared_error(true_ratings, ensemble_preds)\n",
    "    return mse\n",
    "\n",
    "# Initial weights (equal weights)\n",
    "initial_weights = np.ones(len(pred_ratings_list_val)) / len(pred_ratings_list_val)\n",
    "\n",
    "# Bounds for the weights (they should be between 0 and 1)\n",
    "bounds = [(0, 1) for _ in range(len(pred_ratings_list_val))]\n",
    "\n",
    "# Constraints (weights should sum to 1)\n",
    "constraints = {'type': 'eq', 'fun': lambda w: np.sum(w) - 1}\n",
    "\n",
    "# Find the best weights using the validation set\n",
    "result = minimize(objective, initial_weights, args=(np.array(pred_ratings_list_val), ratings_val), bounds=bounds, constraints=constraints, method='SLSQP')\n",
    "\n",
    "best_weights = result.x\n",
    "print(f\"Best weights found: {best_weights}\")\n",
    "\n",
    "# Evaluate the best weights on the test set\n",
    "ensemble_pred_ratings_test = np.sum(best_weights[:, None] * np.array(pred_ratings_list_test), axis=0)\n",
    "mse_test = mean_squared_error(ratings_test, ensemble_pred_ratings_test)\n",
    "print(f\"Test MSE: {mse_test}\")\n",
    "\n",
    "# Load submission users and items\n",
    "submission_users, submission_items = load_submission_users_items()\n",
    "\n",
    "# Load and predict with each model for the submission set\n",
    "pred_ratings_list_submission = [load_and_predict(LightGCNPlus, config, submission_users, submission_items) for config in model_configs]\n",
    "\n",
    "# Get final ensemble predictions for submission\n",
    "ensemble_pred_ratings_submission = np.sum(best_weights[:, None] * np.array(pred_ratings_list_submission), axis=0)\n",
    "ensemble_pred_ratings_submission = np.clip(ensemble_pred_ratings_submission, 1, 5)\n",
    "\n",
    "# Create the submission dataframe\n",
    "submission = to_submission_format(submission_users, submission_items, ensemble_pred_ratings_submission)\n",
    "\n",
    "# Save the submission to a CSV file\n",
    "submission.to_csv('../data/submission_data/submission.csv', index=False)\n",
    "print(\"Submission saved to '../data/submission_data/submission.csv'\")"
   ]
  },
  {
   "cell_type": "code",
   "execution_count": null,
   "metadata": {},
   "outputs": [
    {
     "name": "stdout",
     "output_type": "stream",
     "text": [
      "min: -2.4911702\n",
      "max: 1.6713597\n",
      "mean: 0.021086179\n"
     ]
    },
    {
     "data": {
      "image/png": "[encoded data removed]",
      "text/plain": [
       "<Figure size 640x480 with 1 Axes>"
      ]
     },
     "metadata": {},
     "output_type": "display_data"
    },
    {
     "name": "stdout",
     "output_type": "stream",
     "text": [
      "min: 0.5001405918203505\n",
      "max: 5.672306683219501\n",
      "mean: 3.879019421591461\n",
      "count_over_5: 7727\n",
      "count_under_1: 27\n",
      "\n",
      "min: 1.0\n",
      "max: 5.0\n",
      "mean: 3.8783547326809154\n"
     ]
    },
    {
     "data": {
      "image/png": "[encoded data removed]",
      "text/plain": [
       "<Figure size 640x480 with 1 Axes>"
      ]
     },
     "metadata": {},
     "output_type": "display_data"
    }
   ],
   "source": [
    "from postprocess import postprocess\n",
    "from models import LightGCNPlus\n",
    "# K=28, L=5, C=(6, 1)\n",
    "# K=28, L=4, C=(2,)\n",
    "# K=28, L=4, C=(5,)\n",
    "K=28\n",
    "L=4\n",
    "C=(2,)\n",
    "ID = str(K) + \"_\" + str(L) + \"_\" + str(C)\n",
    "postprocess(LightGCNPlus, ID)"
   ]
  },
  {
   "cell_type": "code",
   "execution_count": null,
   "metadata": {},
   "outputs": [],
   "source": []
  }
 ],
 "metadata": {
  "kernelspec": {
   "display_name": ".venv",
   "language": "python",
   "name": "python3"
  },
  "language_info": {
   "codemirror_mode": {
    "name": "ipython",
    "version": 3
   },
   "file_extension": ".py",
   "mimetype": "text/x-python",
   "name": "python",
   "nbconvert_exporter": "python",
   "pygments_lexer": "ipython3",
   "version": "3.9.6"
  }
 },
 "nbformat": 4,
 "nbformat_minor": 2
}
