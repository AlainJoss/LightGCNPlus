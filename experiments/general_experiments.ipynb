{
 "cells": [
  {
   "cell_type": "markdown",
   "metadata": {},
   "source": [
    "# General Experiments\n",
    "\n",
    "### Scope\n",
    "In this notebook, we use one of the possible configurations of our LightGCNPlus model to experiment with different hyperparameters and configurations.\n",
    "\n",
    "### Purpose\n",
    "The purpose is to showcase why we fixed certain hyperparameters and configurations in the hyperparameter tuning loop in the LightGCNPlus.ipynb notebook.\n",
    "\n",
    "### Results\n",
    "Given the report results from the training we chose to fix the following hyperparameters and configurations:\n",
    "- ..."
   ]
  },
  {
   "cell_type": "code",
   "execution_count": 1,
   "metadata": {},
   "outputs": [],
   "source": [
    "import torch\n",
    "from torch import nn\n",
    "import numpy as np\n",
    "import pandas as pd\n",
    "from matplotlib import pyplot as plt\n",
    "\n",
    "from train import train_model\n",
    "from models import LightGCNPlus\n",
    "from config import DEVICE\n",
    "from train import train_model\n",
    "from postprocess import report_training_results\n",
    "from itertools import product"
   ]
  },
  {
   "cell_type": "code",
   "execution_count": 2,
   "metadata": {},
   "outputs": [],
   "source": [
    "from load import load_train_data\n",
    "train_df = load_train_data()"
   ]
  },
  {
   "cell_type": "code",
   "execution_count": 3,
   "metadata": {},
   "outputs": [],
   "source": [
    "from preprocess import preprocess\n",
    "\n",
    "# A_tilde, \\\n",
    "# train_users, train_items, train_ratings, \\\n",
    "# val_users, val_items, val_ratings \\\n",
    "# = preprocess(train_df)"
   ]
  },
  {
   "cell_type": "code",
   "execution_count": 4,
   "metadata": {},
   "outputs": [],
   "source": [
    "# # save validation set to train ensemble\n",
    "# train_df = pd.DataFrame({\n",
    "#     \"train_users\": train_users.cpu().numpy(),\n",
    "#     \"train_items\": train_items.cpu().numpy(),\n",
    "#     \"train_ratings\": train_ratings.cpu().numpy()\n",
    "# })\n",
    "# train_df.to_csv(\"../data/model_state/train_df.csv\", index=False)\n",
    "\n",
    "# val_df = pd.DataFrame({\n",
    "#     \"val_users\": val_users.cpu().numpy(),\n",
    "#     \"val_items\": val_items.cpu().numpy(),\n",
    "#     \"val_ratings\": val_ratings.cpu().numpy()\n",
    "# })\n",
    "# val_df.to_csv(\"../data/model_state/val_df.csv\", index=False)"
   ]
  },
  {
   "cell_type": "code",
   "execution_count": 5,
   "metadata": {},
   "outputs": [],
   "source": [
    "# # save A_tilde to file in same repo as val_df\n",
    "# np.save(\"../data/model_state/A_tilde.npy\", A_tilde.cpu().numpy())"
   ]
  },
  {
   "cell_type": "code",
   "execution_count": 11,
   "metadata": {},
   "outputs": [],
   "source": [
    "A_tilde = torch.tensor(np.load(\"../data/model_state/A_tilde.npy\")).to(DEVICE)"
   ]
  },
  {
   "cell_type": "code",
   "execution_count": 29,
   "metadata": {},
   "outputs": [],
   "source": [
    "train_df = pd.read_csv(\"../data/model_state/train_df.csv\")\n",
    "train_users, train_items, train_ratings = torch.tensor(train_df[\"train_users\"].values, dtype=torch.long).to(DEVICE), \\\n",
    "    torch.tensor(train_df[\"train_items\"].values, dtype=torch.long).to(DEVICE), \\\n",
    "    torch.tensor(train_df[\"train_ratings\"].values, dtype=torch.float32).to(DEVICE)\n",
    "\n",
    "val_df = pd.read_csv(\"../data/model_state/val_df.csv\")\n",
    "val_users, val_items, val_ratings = torch.tensor(val_df[\"val_users\"].values, dtype=torch.long).to(DEVICE), \\\n",
    "    torch.tensor(val_df[\"val_items\"].values, dtype=torch.long).to(DEVICE), \\\n",
    "    torch.tensor(val_df[\"val_ratings\"].values, dtype=torch.float32).to(DEVICE)"
   ]
  },
  {
   "cell_type": "code",
   "execution_count": 35,
   "metadata": {},
   "outputs": [],
   "source": [
    "# Model and optimizer hyperparameters\n",
    "INIT_EMBS_STD=0.075\n",
    "LR=0.1\n",
    "WEIGHT_DECAY=0.00005\n",
    "DROPOUT=0.5\n",
    "ACT_FN = nn.GELU()\n",
    "\n",
    "# Train loop hyperparameters\n",
    "EPOCHS = 3000\n",
    "STOP_THRESHOLD=1e-09\n",
    "\n",
    "# To be searched (example values)\n",
    "K=28\n",
    "L=4\n",
    "C = (5,)"
   ]
  },
  {
   "cell_type": "code",
   "execution_count": 36,
   "metadata": {},
   "outputs": [],
   "source": [
    "# # Grid\n",
    "# ks = [28]  # different Ks work with different projections\n",
    "# layers = [5]  # tested 3 already\n",
    "# projections = [(6,)]\n",
    "\n",
    "# num_combinations = len(ks) * len(layers) * len(projections)\n",
    "# print(f\"Searching over {num_combinations} combinations.\")"
   ]
  },
  {
   "cell_type": "code",
   "execution_count": 37,
   "metadata": {},
   "outputs": [],
   "source": [
    "# TODO: write load from checkpoint function"
   ]
  },
  {
   "cell_type": "code",
   "execution_count": 38,
   "metadata": {},
   "outputs": [],
   "source": [
    "# # Tuning LightGCNPlus\n",
    "# results = {\n",
    "#     \"min_val_losses\": [],\n",
    "#     \"params\": []\n",
    "# }\n",
    "# for K in ks:\n",
    "#     for L in layers:\n",
    "#         for C in projections:\n",
    "#             model = LightGCNPlus(A_tilde, ACT_FN, K, L, INIT_EMBS_STD, DROPOUT, C).to(DEVICE)\n",
    "#             optimizer = torch.optim.Adam(model.parameters(), lr=LR, weight_decay=WEIGHT_DECAY)\n",
    "#             loss_fn = nn.MSELoss()\n",
    "#             print(f\"K={K}, L={L}, C={C}\")\n",
    "#             train_rmse, val_rmse = train_model(model, optimizer, loss_fn, train_users, train_items, train_ratings, val_users, val_items, val_ratings, EPOCHS, STOP_THRESHOLD, save_best_model=True, verbosity=1)\n",
    "#             report_training_results(train_rmse, val_rmse)\n",
    "            \n",
    "#             results[\"min_val_losses\"].append(min(val_rmse))\n",
    "#             results[\"params\"].append((K, L, C))"
   ]
  },
  {
   "cell_type": "code",
   "execution_count": 39,
   "metadata": {},
   "outputs": [
    {
     "name": "stdout",
     "output_type": "stream",
     "text": [
      "Epoch 1 - Best Val: 3.2123 at 1 - mv-avg: - Train: 3.1954 - Val: 6.7841\n",
      "Epoch 2 - Best Val: 1.1831 at 3 - mv-avg: - Train: 7.1358 - Val: 1.1831\n",
      "Epoch 3 - Best Val: 1.1831 at 3 - mv-avg: - Train: 1.2570 - Val: 2.1319\n",
      "Epoch 4 - Best Val: 1.1831 at 3 - mv-avg: - Train: 2.1357 - Val: 1.9040\n",
      "Epoch 5 - Best Val: 1.1831 at 3 - mv-avg: - Train: 2.0131 - Val: 2.1437\n",
      "Epoch 6 - Best Val: 1.1831 at 3 - mv-avg: - Train: 2.2126 - Val: 2.1228\n",
      "Epoch 7 - Best Val: 1.0983 at 8 - mv-avg: - Train: 2.3049 - Val: 1.0983\n",
      "Epoch 8 - Best Val: 1.0983 at 8 - mv-avg: - Train: 1.2042 - Val: 1.7991\n",
      "Epoch 9 - Best Val: 1.0983 at 8 - mv-avg: - Train: 1.8225 - Val: 1.9347\n",
      "Epoch 10 - Best Val: 1.0983 at 8 - mv-avg: - Train: 1.9463 - Val: 1.5533\n",
      "Epoch 11 - Best Val: 1.0983 at 8 - mv-avg: - Train: 1.5767 - Val: 1.1367\n",
      "Epoch 12 - Best Val: 1.0983 at 8 - mv-avg: - Train: 1.2252 - Val: 1.3244\n",
      "Epoch 13 - Best Val: 1.0983 at 8 - mv-avg: - Train: 1.4782 - Val: 1.2640\n",
      "Epoch 14 - Best Val: 1.0983 at 8 - mv-avg: - Train: 1.4200 - Val: 1.3696\n",
      "Epoch 15 - Best Val: 1.0983 at 8 - mv-avg: - Train: 1.5013 - Val: 1.1469\n",
      "Epoch 16 - Best Val: 1.0983 at 8 - mv-avg: - Train: 1.2717 - Val: 1.1225\n",
      "Epoch 17 - Best Val: 1.0983 at 8 - mv-avg: - Train: 1.2189 - Val: 1.1217\n",
      "Epoch 18 - Best Val: 1.0922 at 19 - mv-avg: - Train: 1.2047 - Val: 1.0922\n",
      "Epoch 19 - Best Val: 1.0549 at 20 - mv-avg: - Train: 1.1809 - Val: 1.0549\n",
      "Epoch 20 - Best Val: 1.0549 at 20 - mv-avg: - Train: 1.1691 - Val: 1.0609\n",
      "Epoch 21 - Best Val: 1.0549 at 20 - mv-avg: - Train: 1.1945 - Val: 1.0568\n",
      "Epoch 22 - Best Val: 1.0535 at 23 - mv-avg: - Train: 1.1873 - Val: 1.0535\n",
      "Epoch 23 - Best Val: 1.0456 at 24 - mv-avg: - Train: 1.1668 - Val: 1.0456\n",
      "Epoch 24 - Best Val: 1.0423 at 25 - mv-avg: - Train: 1.1444 - Val: 1.0423\n",
      "Epoch 25 - Best Val: 1.0232 at 26 - mv-avg: - Train: 1.1390 - Val: 1.0232\n",
      "Epoch 26 - Best Val: 1.0177 at 27 - mv-avg: - Train: 1.1277 - Val: 1.0177\n",
      "Epoch 27 - Best Val: 1.0177 at 27 - mv-avg: - Train: 1.1298 - Val: 1.0177\n",
      "Epoch 28 - Best Val: 1.0177 at 27 - mv-avg: - Train: 1.1262 - Val: 1.0199\n",
      "Epoch 29 - Best Val: 1.0177 at 27 - mv-avg: - Train: 1.1149 - Val: 1.0306\n",
      "Epoch 30 - Best Val: 1.0177 at 27 - mv-avg: - Train: 1.1148 - Val: 1.0210\n",
      "Epoch 31 - Best Val: 1.0100 at 32 - mv-avg: - Train: 1.1052 - Val: 1.0100\n",
      "Epoch 32 - Best Val: 1.0090 at 33 - mv-avg: - Train: 1.1020 - Val: 1.0090\n",
      "Epoch 33 - Best Val: 1.0090 at 33 - mv-avg: - Train: 1.1024 - Val: 1.0100\n",
      "Epoch 34 - Best Val: 1.0090 at 33 - mv-avg: - Train: 1.0951 - Val: 1.0181\n",
      "Epoch 35 - Best Val: 1.0090 at 33 - mv-avg: - Train: 1.0958 - Val: 1.0122\n",
      "Epoch 36 - Best Val: 1.0022 at 37 - mv-avg: - Train: 1.0905 - Val: 1.0022\n",
      "Epoch 37 - Best Val: 0.9999 at 38 - mv-avg: - Train: 1.0863 - Val: 0.9999\n",
      "Epoch 38 - Best Val: 0.9999 at 38 - mv-avg: - Train: 1.0847 - Val: 1.0007\n",
      "Epoch 39 - Best Val: 0.9999 at 38 - mv-avg: - Train: 1.0795 - Val: 1.0066\n",
      "Epoch 40 - Best Val: 0.9999 at 38 - mv-avg: - Train: 1.0781 - Val: 1.0031\n",
      "Epoch 41 - Best Val: 0.9968 at 42 - mv-avg: - Train: 1.0754 - Val: 0.9968\n",
      "Epoch 42 - Best Val: 0.9952 at 43 - mv-avg: - Train: 1.0720 - Val: 0.9952\n",
      "Epoch 43 - Best Val: 0.9952 at 43 - mv-avg: - Train: 1.0716 - Val: 0.9962\n",
      "Epoch 44 - Best Val: 0.9952 at 43 - mv-avg: - Train: 1.0682 - Val: 1.0003\n",
      "Epoch 45 - Best Val: 0.9952 at 43 - mv-avg: - Train: 1.0676 - Val: 0.9983\n",
      "Epoch 46 - Best Val: 0.9938 at 47 - mv-avg: - Train: 1.0652 - Val: 0.9938\n",
      "Epoch 47 - Best Val: 0.9924 at 48 - mv-avg: - Train: 1.0635 - Val: 0.9924\n",
      "Epoch 48 - Best Val: 0.9924 at 48 - mv-avg: - Train: 1.0618 - Val: 0.9931\n"
     ]
    }
   ],
   "source": [
    "# TODO: cannot continue training from checkpoint, because best_val = inf when resuming\n",
    "\n",
    "# model = load_best_val_model(model_class, ID)\n",
    "model = LightGCNPlus(A_tilde, ACT_FN, K, L, INIT_EMBS_STD, DROPOUT, C).to(DEVICE)\n",
    "optimizer = torch.optim.Adam(model.parameters(), lr=LR, weight_decay=WEIGHT_DECAY)\n",
    "loss_fn = nn.MSELoss()\n",
    "train_rmse, val_rmse = train_model(model, optimizer, loss_fn, train_users, train_items, train_ratings, val_users, val_items, val_ratings, EPOCHS, STOP_THRESHOLD, save_best_model=True, verbosity=1)\n",
    "report_training_results(train_rmse, val_rmse)"
   ]
  },
  {
   "cell_type": "code",
   "execution_count": null,
   "metadata": {},
   "outputs": [],
   "source": [
    "# Report top k best hyperparameter combos\n",
    "TOP_K = 10\n",
    "best_ids = np.argsort(results[\"min_val_losses\"])[:TOP_K]\n",
    "\n",
    "for i in best_ids:\n",
    "    print(f\"Best hyperparameters: {results['params'][i]}\")\n",
    "    print(f\"Best val loss: {results['min_val_losses'][i]}\")"
   ]
  },
  {
   "cell_type": "code",
   "execution_count": null,
   "metadata": {},
   "outputs": [
    {
     "name": "stdout",
     "output_type": "stream",
     "text": [
      "min: 0.04022169\n",
      "max: 5.699665\n",
      "mean: 3.8560307\n"
     ]
    },
    {
     "data": {
      "image/png": "[encoded data removed]",
      "text/plain": [
       "<Figure size 640x480 with 1 Axes>"
      ]
     },
     "metadata": {},
     "output_type": "display_data"
    },
    {
     "name": "stdout",
     "output_type": "stream",
     "text": [
      "min: 1.0\n",
      "max: 5.0\n",
      "mean: 3.8553733392107703\n",
      "count_over_5: 0\n",
      "count_under_1: 0\n",
      "\n",
      "min: 1.0\n",
      "max: 5.0\n",
      "mean: 3.8553733392107703\n"
     ]
    },
    {
     "data": {
      "image/png": "[encoded data removed]",
      "text/plain": [
       "<Figure size 640x480 with 1 Axes>"
      ]
     },
     "metadata": {},
     "output_type": "display_data"
    }
   ],
   "source": [
    "from postprocess import load_submission_users_items, report_submission_results, create_submission_matrix, report_clip_data, to_submission_format, load_means_stds, load_best_val_model\n",
    "\n",
    "model_class = LightGCNPlus\n",
    "ID = str(28) + \"_\" + str(5) + \"_\" + str((6,))\n",
    "\n",
    "sub_users, sub_items = load_submission_users_items()\n",
    "model = load_best_val_model(model_class, ID)\n",
    "\n",
    "# Get predictions from model for submission users and items\n",
    "raw_pred_ratings = model.get_ratings(sub_users, sub_items).detach().cpu().numpy()\n",
    "raw_submission_matrix = create_submission_matrix(raw_pred_ratings, sub_users, sub_items)\n",
    "pred_ratings = raw_submission_matrix[sub_users, sub_items]\n",
    "pred_ratings = np.clip(pred_ratings, 1, 5)\n",
    "\n",
    "# Report results\n",
    "report_submission_results(raw_pred_ratings, \"raw\")\n",
    "report_clip_data(pred_ratings)\n",
    "report_submission_results(pred_ratings, \"clipped\")\n",
    "\n",
    "# Generate submission file\n",
    "submission = to_submission_format(sub_users, sub_items, pred_ratings)\n",
    "submission.to_csv('../data/submission_data/submission.csv', index=False)"
   ]
  },
  {
   "cell_type": "code",
   "execution_count": null,
   "metadata": {},
   "outputs": [],
   "source": []
  }
 ],
 "metadata": {
  "kernelspec": {
   "display_name": ".venv",
   "language": "python",
   "name": "python3"
  },
  "language_info": {
   "codemirror_mode": {
    "name": "ipython",
    "version": 3
   },
   "file_extension": ".py",
   "mimetype": "text/x-python",
   "name": "python",
   "nbconvert_exporter": "python",
   "pygments_lexer": "ipython3",
   "version": "3.9.6"
  }
 },
 "nbformat": 4,
 "nbformat_minor": 2
}
