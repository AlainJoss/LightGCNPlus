{
 "cells": [
  {
   "cell_type": "markdown",
   "metadata": {},
   "source": [
    "# Baselines\n",
    "\n",
    "### Scope\n",
    "In this notebook we find the performance of standard CF methods on the dataset for comparison with LightGCNPlus.\n",
    "\n",
    "### Purpose\n",
    "The purpose is to have some baslines for comparison\n",
    "\n",
    "### Results\n",
    "ALS achieved RMSE score of around 1.426 while NCF achieved RMSE score of around 1.094"
   ]
  },
  {
   "cell_type": "code",
   "execution_count": 37,
   "metadata": {},
   "outputs": [],
   "source": [
    "import numpy as np # linear algebra\n",
    "import pandas as pd # data processing, CSV file I/O (e.g. pd.read_csv)\n",
    "import math\n",
    "import os\n",
    "from matplotlib import pyplot as plt\n",
    "\n",
    "from sklearn.model_selection import train_test_split\n",
    "from sklearn.metrics import mean_squared_error\n",
    "\n",
    "rmse = lambda x, y: math.sqrt(mean_squared_error(x, y))\n",
    "\n",
    "def alternating_least_squares(data, mask, num_factors=10, regularization=0.1, num_iterations=20):\n",
    "    num_users, num_items = data.shape\n",
    "    U = np.random.rand(num_users, num_factors)\n",
    "    V = np.random.rand(num_items, num_factors)\n",
    "\n",
    "    for iteration in range(num_iterations):\n",
    "        # Update item factors V\n",
    "        B = U.T @ (data * mask)\n",
    "        Q = np.array([U[row, :][:, np.newaxis] @ U[row, :][np.newaxis, :] for row in range(num_users)])\n",
    "        \n",
    "        for col in range(num_items):\n",
    "            sum_r1_mat = np.sum(Q[mask[:, col] == 1], axis=0)\n",
    "            V[col, :] = np.linalg.solve(sum_r1_mat + regularization * np.eye(num_factors), B[:, col])\n",
    "\n",
    "        # Update user factors U\n",
    "        B = V.T @ (data.T * mask.T)\n",
    "        Q = np.array([V[row, :][:, np.newaxis] @ V[row, :][np.newaxis, :] for row in range(num_items)])\n",
    "\n",
    "        for row in range(num_users):\n",
    "            sum_r1_mat = np.sum(Q[mask[row, :] == 1], axis=0)\n",
    "            U[row, :] = np.linalg.solve(sum_r1_mat + regularization * np.eye(num_factors), B[:, row])\n",
    "\n",
    "        # Compute reconstruction error\n",
    "        reconstructed_matrix = U @ V.T\n",
    "        error = rmse(data[mask == 1], reconstructed_matrix[mask == 1])\n",
    "        print(f\"Iteration {iteration + 1}/{num_iterations}, RMSE: {error:.4f}\")\n",
    "\n",
    "    return U, V\n",
    "\n"
   ]
  },
  {
   "cell_type": "code",
   "execution_count": 38,
   "metadata": {},
   "outputs": [],
   "source": [
    "# # Call pre-proc to get data\n",
    "\n",
    "from load import load_data\n",
    "train_pd, test_pd = load_data()\n",
    "\n",
    "# from preprocess import preprocess\n",
    "# A_tilde, standardized_train_ratings, train_users, train_items, means, stds, val_users, val_items, orig_val_ratings, standardized_val_ratings, submission_users, submission_items = preprocess((train_df, submission_df))\n",
    "\n",
    "# Use provided setup instead\n",
    "def extract_users_items_predictions(data_pd):\n",
    "    users, movies = \\\n",
    "        [np.squeeze(arr) for arr in np.split(data_pd.Id.str.extract('r(\\d+)_c(\\d+)').values.astype(int) - 1, 2, axis=-1)]\n",
    "    predictions = data_pd.Prediction.values\n",
    "    return users, movies, predictions\n",
    "\n",
    "train_users, train_movies, train_predictions = extract_users_items_predictions(train_pd)\n",
    "test_users, test_movies, test_predictions = extract_users_items_predictions(test_pd)\n",
    "\n",
    "# also create full matrix of observed values\n",
    "data = np.full((10000, 1000), np.mean(train_predictions))\n",
    "mask = np.zeros((10000, 1000)) # 0 -> unobserved value, 1->observed value\n",
    "\n",
    "\n",
    "over = 0\n",
    "under = 0\n",
    "for user, movie, pred in zip(train_users, train_movies, train_predictions):\n",
    "    if pred > 5:\n",
    "        over += 1\n",
    "    if pred < 1:\n",
    "        under += 1\n",
    "    data[user - 1][movie - 1] = pred\n",
    "    mask[user - 1][movie - 1] = 1\n",
    "\n",
    "# test our predictions with the true values\n",
    "def get_score(predictions, target_values=test_predictions):\n",
    "    return rmse(predictions, target_values)\n",
    "\n",
    "def extract_prediction_from_full_matrix(reconstructed_matrix, users=test_users, movies=test_movies):\n",
    "    # returns predictions for the users-movies combinations specified based on a full m \\times n matrix\n",
    "    assert(len(users) == len(movies)), \"users-movies combinations specified should have equal length\"\n",
    "    predictions = np.zeros(len(test_users))\n",
    "\n",
    "    for i, (user, movie) in enumerate(zip(users, movies)):\n",
    "        predictions[i] = reconstructed_matrix[user][movie]\n",
    "\n",
    "    return predictions\n"
   ]
  },
  {
   "cell_type": "code",
   "execution_count": 32,
   "metadata": {},
   "outputs": [
    {
     "name": "stdout",
     "output_type": "stream",
     "text": [
      "(1176952,) [4 3 4 ... 3 4 3]\n"
     ]
    }
   ],
   "source": [
    "print(train_predictions.shape, train_predictions)"
   ]
  },
  {
   "cell_type": "code",
   "execution_count": 28,
   "metadata": {},
   "outputs": [
    {
     "name": "stdout",
     "output_type": "stream",
     "text": [
      "mean: 3.8572805008190647\n",
      "std_rating: 1.1190567337624968\n",
      "mean of std data: 1.5077361581461446e-17\n",
      "std of std data: 0.3430673403283966\n",
      "std data shape: (10000, 1000)\n",
      "[[ 0.          0.         -0.76607421 ... -0.76607421 -0.76607421\n",
      "   0.        ]\n",
      " [ 0.          0.         -1.65968395 ...  0.          0.\n",
      "   0.        ]\n",
      " [ 0.          0.          0.         ...  0.          0.\n",
      "   0.        ]\n",
      " ...\n",
      " [ 0.          0.          1.02114528 ...  0.          0.\n",
      "   0.        ]\n",
      " [ 0.          0.          0.         ...  0.         -0.76607421\n",
      "   0.        ]\n",
      " [ 0.          0.          0.         ...  0.          0.\n",
      "   0.        ]]\n",
      "[[0. 0. 1. ... 1. 1. 0.]\n",
      " [0. 0. 1. ... 0. 0. 0.]\n",
      " [0. 0. 0. ... 0. 0. 0.]\n",
      " ...\n",
      " [0. 0. 1. ... 0. 0. 0.]\n",
      " [0. 0. 0. ... 0. 1. 0.]\n",
      " [0. 0. 0. ... 0. 0. 0.]]\n"
     ]
    }
   ],
   "source": [
    "# Standardize the training data\n",
    "mean_rating = np.mean(train_predictions)\n",
    "std_rating = np.std(train_predictions)\n",
    "standardized_data = (data - mean_rating) / std_rating\n",
    "\n",
    "print(f\"mean: {mean_rating}\")\n",
    "print(f\"std_rating: {std_rating}\")\n",
    "\n",
    "print(f\"mean of std data: {np.mean(standardized_data)}\")\n",
    "print(f\"std of std data: {np.std(standardized_data)}\")\n",
    "\n",
    "print(f\"std data shape: {standardized_data.shape}\")\n",
    "print(standardized_data)\n",
    "print(mask)"
   ]
  },
  {
   "cell_type": "code",
   "execution_count": 12,
   "metadata": {},
   "outputs": [
    {
     "name": "stdout",
     "output_type": "stream",
     "text": [
      "Iteration 1/50, RMSE: 0.8542\n",
      "Iteration 2/50, RMSE: 0.7897\n",
      "Iteration 3/50, RMSE: 0.7687\n",
      "Iteration 4/50, RMSE: 0.7581\n",
      "Iteration 5/50, RMSE: 0.7516\n",
      "Iteration 6/50, RMSE: 0.7473\n",
      "Iteration 7/50, RMSE: 0.7442\n",
      "Iteration 8/50, RMSE: 0.7419\n",
      "Iteration 9/50, RMSE: 0.7402\n",
      "Iteration 10/50, RMSE: 0.7388\n",
      "Iteration 11/50, RMSE: 0.7377\n",
      "Iteration 12/50, RMSE: 0.7368\n",
      "Iteration 13/50, RMSE: 0.7361\n",
      "Iteration 14/50, RMSE: 0.7355\n",
      "Iteration 15/50, RMSE: 0.7349\n",
      "Iteration 16/50, RMSE: 0.7345\n",
      "Iteration 17/50, RMSE: 0.7341\n",
      "Iteration 18/50, RMSE: 0.7337\n",
      "Iteration 19/50, RMSE: 0.7334\n",
      "Iteration 20/50, RMSE: 0.7331\n",
      "Iteration 21/50, RMSE: 0.7328\n",
      "Iteration 22/50, RMSE: 0.7326\n",
      "Iteration 23/50, RMSE: 0.7324\n",
      "Iteration 24/50, RMSE: 0.7322\n",
      "Iteration 25/50, RMSE: 0.7320\n",
      "Iteration 26/50, RMSE: 0.7318\n",
      "Iteration 27/50, RMSE: 0.7317\n",
      "Iteration 28/50, RMSE: 0.7315\n",
      "Iteration 29/50, RMSE: 0.7314\n",
      "Iteration 30/50, RMSE: 0.7313\n",
      "Iteration 31/50, RMSE: 0.7312\n",
      "Iteration 32/50, RMSE: 0.7311\n",
      "Iteration 33/50, RMSE: 0.7310\n",
      "Iteration 34/50, RMSE: 0.7309\n",
      "Iteration 35/50, RMSE: 0.7308\n",
      "Iteration 36/50, RMSE: 0.7307\n",
      "Iteration 37/50, RMSE: 0.7306\n",
      "Iteration 38/50, RMSE: 0.7306\n",
      "Iteration 39/50, RMSE: 0.7305\n",
      "Iteration 40/50, RMSE: 0.7304\n",
      "Iteration 41/50, RMSE: 0.7304\n",
      "Iteration 42/50, RMSE: 0.7303\n",
      "Iteration 43/50, RMSE: 0.7303\n",
      "Iteration 44/50, RMSE: 0.7302\n",
      "Iteration 45/50, RMSE: 0.7302\n",
      "Iteration 46/50, RMSE: 0.7301\n",
      "Iteration 47/50, RMSE: 0.7301\n",
      "Iteration 48/50, RMSE: 0.7300\n",
      "Iteration 49/50, RMSE: 0.7300\n",
      "Iteration 50/50, RMSE: 0.7300\n",
      "Final RMSE on test set: 1.0765\n"
     ]
    }
   ],
   "source": [
    "\n",
    "# Run ALS\n",
    "num_factors = 20\n",
    "regularization = 1\n",
    "num_iterations = 50\n",
    "\n",
    "# Run ALS on standardized data\n",
    "U, V = alternating_least_squares(standardized_data, mask, num_factors, regularization, num_iterations)\n",
    "\n"
   ]
  },
  {
   "cell_type": "code",
   "execution_count": 19,
   "metadata": {},
   "outputs": [
    {
     "name": "stdout",
     "output_type": "stream",
     "text": [
      "Final RMSE on test set: 1.0765\n"
     ]
    }
   ],
   "source": [
    "# De-standardize the predictions\n",
    "reconstructed_standardized_matrix = np.dot(U, V.T)\n",
    "reconstructed_matrix = (reconstructed_standardized_matrix * std_rating) + mean_rating\n",
    "\n",
    "predictions = extract_prediction_from_full_matrix(reconstructed_matrix, test_users, test_movies)\n",
    "\n",
    "# Evaluate RMSE on test set\n",
    "final_rmse = get_score(predictions)\n",
    "print(f\"Final RMSE on test set: {final_rmse:.4f}\")"
   ]
  },
  {
   "cell_type": "code",
   "execution_count": 34,
   "metadata": {},
   "outputs": [
    {
     "name": "stdout",
     "output_type": "stream",
     "text": [
      "13.749875505151852\n"
     ]
    }
   ],
   "source": [
    "print(reconstructed_matrix.max())"
   ]
  },
  {
   "cell_type": "code",
   "execution_count": 35,
   "metadata": {},
   "outputs": [
    {
     "name": "stdout",
     "output_type": "stream",
     "text": [
      "min: 1.0\n",
      "max: 5.0\n",
      "mean: 3.5723241892496285\n",
      "count_over_5: 0\n",
      "count_under_1: 0\n"
     ]
    }
   ],
   "source": [
    "# Clip at 1 and 5\n",
    "\n",
    "# check min and max of predictions_rounded\n",
    "print(\"min:\", predictions.min().item())\n",
    "print(\"max:\", predictions.max().item())\n",
    "print(\"mean:\", predictions.mean().item())\n",
    "\n",
    "# Count the number of values under 1 and over 5\n",
    "count_under_1 = (predictions < 1).sum().item()\n",
    "count_over_5 = (predictions > 5).sum().item()\n",
    "print(\"count_over_5:\", count_over_5)\n",
    "print(\"count_under_1:\", count_under_1)\n",
    "\n",
    "# Clip the values to be within the range [1, 5]\n",
    "predictions = np.clip(predictions, 1, 5)"
   ]
  },
  {
   "cell_type": "code",
   "execution_count": 36,
   "metadata": {},
   "outputs": [
    {
     "name": "stdout",
     "output_type": "stream",
     "text": [
      "min: 1.0\n",
      "max: 5.0\n",
      "mean: 3.5723241892496285\n"
     ]
    },
    {
     "data": {
      "image/png": "[encoded data removed]",
      "text/plain": [
       "<Figure size 640x480 with 1 Axes>"
      ]
     },
     "metadata": {},
     "output_type": "display_data"
    }
   ],
   "source": [
    "# check min and max of predictions\n",
    "print(\"min:\", predictions.min().item())\n",
    "print(\"max:\", predictions.max().item())\n",
    "print(\"mean:\", predictions.mean().item())\n",
    "\n",
    "# check distribution of predictions\n",
    "plt.hist(predictions.flatten(), bins=100)\n",
    "plt.show()"
   ]
  },
  {
   "cell_type": "code",
   "execution_count": 6,
   "metadata": {},
   "outputs": [],
   "source": [
    "# save submission\n",
    "def to_submission_format(users, movies, predictions):\n",
    "    return pd.DataFrame(data={'Id': ['r{}_c{}'.format(user + 1, movie + 1) for user, movie in zip(users, movies)],\n",
    "                              'Prediction': predictions})\n",
    "\n",
    "submission = to_submission_format(test_users, test_movies, predictions)\n",
    "\n",
    "submission.to_csv('../data/submission_data/submission.csv', index=False)"
   ]
  },
  {
   "cell_type": "code",
   "execution_count": null,
   "metadata": {},
   "outputs": [
    {
     "name": "stdout",
     "output_type": "stream",
     "text": [
      "Using device: cuda\n"
     ]
    }
   ],
   "source": [
    "#@title Use GPU in colab: Runtime->Change Runtime type\n",
    "import torch\n",
    "import torch.nn as nn\n",
    "import torch.optim as optim\n",
    "from torch.utils.data import DataLoader, TensorDataset\n",
    "from torch.utils.tensorboard import SummaryWriter\n",
    "from tqdm.notebook import tqdm\n",
    "import numpy as np\n",
    "import math\n",
    "from sklearn.metrics import mean_squared_error\n",
    "\n",
    "\n",
    "#  use gpu if available\n",
    "device = torch.device(\"cuda\" if torch.cuda.is_available() else \"cpu\")\n",
    "print('Using device:', device)"
   ]
  },
  {
   "cell_type": "code",
   "execution_count": null,
   "metadata": {},
   "outputs": [],
   "source": [
    "from load import load_data\n",
    "train_pd, test_pd = load_data()\n",
    "\n",
    "# from preprocess import preprocess\n",
    "# A_tilde, standardized_train_ratings, train_users, train_items, means, stds, val_users, val_items, orig_val_ratings, standardized_val_ratings, submission_users, submission_items = preprocess((train_df, submission_df))\n",
    "\n",
    "# Use provided setup instead\n",
    "def extract_users_items_predictions(data_pd):\n",
    "    users, movies = \\\n",
    "        [np.squeeze(arr) for arr in np.split(data_pd.Id.str.extract('r(\\d+)_c(\\d+)').values.astype(int) - 1, 2, axis=-1)]\n",
    "    predictions = data_pd.Prediction.values\n",
    "    return users, movies, predictions\n",
    "\n",
    "train_users, train_movies, train_predictions = extract_users_items_predictions(train_pd)\n",
    "test_users, test_movies, test_predictions = extract_users_items_predictions(test_pd)\n",
    "\n",
    "rmse = lambda x, y: math.sqrt(mean_squared_error(x, y))\n",
    "\n",
    "def get_score(predictions, target_values=test_predictions):\n",
    "    return rmse(predictions, target_values)"
   ]
  },
  {
   "cell_type": "code",
   "execution_count": null,
   "metadata": {},
   "outputs": [],
   "source": [
    "class NCF(nn.Module):\n",
    "    def __init__(self, number_of_users, number_of_movies, embedding_size):\n",
    "        super().__init__()\n",
    "        self.embedding_layer_users = nn.Embedding(number_of_users, embedding_size)\n",
    "        self.embedding_layer_movies = nn.Embedding(number_of_movies, embedding_size)\n",
    "\n",
    "        self.feed_forward = nn.Sequential(\n",
    "            nn.Linear(in_features=2 * embedding_size, out_features=64),\n",
    "            nn.ReLU(),\n",
    "            nn.Linear(in_features=64, out_features=16),\n",
    "            nn.ReLU(),\n",
    "            nn.Linear(in_features=16, out_features=1), # maybe predict per category?\n",
    "            nn.ReLU()\n",
    "        )\n",
    "\n",
    "    def forward(self, users, movies):\n",
    "        users_embedding = self.embedding_layer_users(users)\n",
    "        movies_embedding = self.embedding_layer_movies(movies)\n",
    "        concat = torch.cat([users_embedding, movies_embedding], dim=1)\n",
    "        return torch.squeeze(self.feed_forward(concat))"
   ]
  },
  {
   "cell_type": "code",
   "execution_count": null,
   "metadata": {},
   "outputs": [],
   "source": [
    "# Parameters\n",
    "batch_size = 1024\n",
    "num_epochs = 25\n",
    "show_validation_score_every_epochs = 1\n",
    "embedding_size = 16\n",
    "learning_rate = 1e-3"
   ]
  },
  {
   "cell_type": "code",
   "execution_count": null,
   "metadata": {},
   "outputs": [],
   "source": [
    "def mse_loss(predictions, target):\n",
    "    return torch.mean((predictions - target) ** 2)\n",
    "\n",
    "# Build Dataloaders\n",
    "train_users_torch = torch.tensor(train_users, device=device)\n",
    "train_movies_torch = torch.tensor(train_movies, device=device)\n",
    "train_predictions_torch = torch.tensor(train_predictions, device=device)\n",
    "\n",
    "train_dataloader = DataLoader(\n",
    "    TensorDataset(train_users_torch, train_movies_torch, train_predictions_torch),\n",
    "    batch_size=batch_size)\n",
    "\n",
    "test_users_torch = torch.tensor(test_users, device=device)\n",
    "test_movies_torch = torch.tensor(test_movies, device=device)\n",
    "\n",
    "test_dataloader = DataLoader(\n",
    "    TensorDataset(test_users_torch, test_movies_torch),\n",
    "    batch_size=batch_size)\n",
    "\n",
    "ncf = NCF(10000, 1000, embedding_size).to(device)\n",
    "\n",
    "optimizer = optim.Adam(ncf.parameters(),\n",
    "                       lr=learning_rate)"
   ]
  },
  {
   "cell_type": "code",
   "execution_count": null,
   "metadata": {},
   "outputs": [
    {
     "data": {
      "application/vnd.jupyter.widget-view+json": {
       "model_id": "2cbc37d1dab2468691b57918393f609b",
       "version_major": 2,
       "version_minor": 0
      },
      "text/plain": [
       "  0%|          | 0/28750 [00:00<?, ?it/s]"
      ]
     },
     "metadata": {},
     "output_type": "display_data"
    }
   ],
   "source": [
    "# collect losses for qualitative inspection\n",
    "ncf_logdir = './tensorboard/ncf'\n",
    "writer = SummaryWriter(ncf_logdir)\n",
    "\n",
    "step = 0\n",
    "with tqdm(total=len(train_dataloader) * num_epochs) as pbar:\n",
    "    for epoch in range(num_epochs):\n",
    "        for users_batch, movies_batch, target_predictions_batch in train_dataloader:\n",
    "            optimizer.zero_grad()\n",
    "\n",
    "            predictions_batch = ncf(users_batch, movies_batch)\n",
    "\n",
    "            loss = mse_loss(predictions_batch, target_predictions_batch)\n",
    "\n",
    "            loss.backward()\n",
    "\n",
    "            optimizer.step()\n",
    "\n",
    "            writer.add_scalar('loss', loss, step)\n",
    "            pbar.update(1)\n",
    "            step += 1\n",
    "\n",
    "        if epoch % show_validation_score_every_epochs == 0:\n",
    "\n",
    "            with torch.no_grad():\n",
    "                all_predictions = []\n",
    "                for users_batch, movies_batch in test_dataloader:\n",
    "                    predictions_batch = ncf(users_batch, movies_batch)\n",
    "                    all_predictions.append(predictions_batch)\n",
    "\n",
    "            all_predictions = torch.cat(all_predictions)\n",
    "\n",
    "            reconstuction_rmse = get_score(all_predictions.cpu().numpy())\n",
    "            pbar.set_description('At epoch {:3d} loss is {:.4f}'.format(epoch, reconstuction_rmse))\n",
    "\n",
    "            writer.add_scalar('reconstuction_rmse', reconstuction_rmse, step)"
   ]
  },
  {
   "cell_type": "code",
   "execution_count": null,
   "metadata": {},
   "outputs": [
    {
     "name": "stdout",
     "output_type": "stream",
     "text": [
      "(1176952,)\n"
     ]
    }
   ],
   "source": [
    "final_ratings = all_predictions.cpu().numpy()\n",
    "print(final_ratings.shape)"
   ]
  },
  {
   "cell_type": "code",
   "execution_count": null,
   "metadata": {},
   "outputs": [
    {
     "name": "stdout",
     "output_type": "stream",
     "text": [
      "min: 0.9579233527183533\n",
      "max: 6.364503383636475\n",
      "mean: 3.639430522918701\n",
      "count_over_5: 11512\n",
      "count_under_1: 2\n"
     ]
    }
   ],
   "source": [
    "# Clip at 1 and 5\n",
    "\n",
    "# check min and max of final_ratings_rounded\n",
    "print(\"min:\", final_ratings.min().item())\n",
    "print(\"max:\", final_ratings.max().item())\n",
    "print(\"mean:\", final_ratings.mean().item())\n",
    "\n",
    "# Count the number of values under 1 and over 5\n",
    "count_under_1 = (final_ratings < 1).sum().item()\n",
    "count_over_5 = (final_ratings > 5).sum().item()\n",
    "print(\"count_over_5:\", count_over_5)\n",
    "print(\"count_under_1:\", count_under_1)\n",
    "\n",
    "# Clip the values to be within the range [1, 5]\n",
    "final_ratings = np.clip(final_ratings, 1, 5)"
   ]
  },
  {
   "cell_type": "code",
   "execution_count": null,
   "metadata": {},
   "outputs": [
    {
     "name": "stdout",
     "output_type": "stream",
     "text": [
      "min: 1.0\n",
      "max: 5.0\n",
      "mean: 3.637852668762207\n"
     ]
    },
    {
     "data": {
      "image/png": "[encoded data removed]",
      "text/plain": [
       "<Figure size 640x480 with 1 Axes>"
      ]
     },
     "metadata": {},
     "output_type": "display_data"
    }
   ],
   "source": [
    "from matplotlib import pyplot as plt\n",
    "# check min and max of final_ratings\n",
    "print(\"min:\", final_ratings.min().item())\n",
    "print(\"max:\", final_ratings.max().item())\n",
    "print(\"mean:\", final_ratings.mean().item())\n",
    "\n",
    "# check distribution of final_ratings\n",
    "plt.hist(final_ratings.flatten(), bins=100)\n",
    "plt.show()"
   ]
  },
  {
   "cell_type": "code",
   "execution_count": null,
   "metadata": {},
   "outputs": [],
   "source": [
    "# save submission\n",
    "import pandas as pd\n",
    "def to_submission_format(users, movies, predictions):\n",
    "    return pd.DataFrame(data={'Id': ['r{}_c{}'.format(user + 1, movie + 1) for user, movie in zip(users, movies)],\n",
    "                              'Prediction': predictions})\n",
    "\n",
    "submission = to_submission_format(test_users, test_movies, final_ratings)\n",
    "\n",
    "submission.to_csv('../data/submission_data/submission.csv', index=False)"
   ]
  }
 ],
 "metadata": {
  "kernelspec": {
   "display_name": "Python 3",
   "language": "python",
   "name": "python3"
  },
  "language_info": {
   "codemirror_mode": {
    "name": "ipython",
    "version": 3
   },
   "file_extension": ".py",
   "mimetype": "text/x-python",
   "name": "python",
   "nbconvert_exporter": "python",
   "pygments_lexer": "ipython3",
   "version": "3.11.0"
  }
 },
 "nbformat": 4,
 "nbformat_minor": 2
}
