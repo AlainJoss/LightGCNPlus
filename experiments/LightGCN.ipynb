{
 "cells": [
  {
   "cell_type": "markdown",
   "metadata": {},
   "source": [
    "# TODO:\n",
    "- implement more models\n",
    "\n",
    "\n",
    "- write new hyperparam tuning loop:\n",
    "    - try with and without standardization\n",
    "    - use cross validation to tune hyperparams\n",
    "    - build tuning pipelines for different models\n",
    "    - create multiple instances of same model, sometimes it converges to different local minima (in the case of my current best it happens 1/5 that it goes in 300 epochs to 0.95, than goes up dramatically again, but then comes down again)\n",
    "- build different classes for different models\n",
    "- implement KL-divergence in loss function to approximate the original distribution of rankings\n",
    "- implement different models:\n",
    "    - implement model with separate rakings message passing\n",
    "    - implement attention model\n",
    "    - try an ensamble of models\n",
    "\n",
    "### Done:\n",
    "- try Z-score normalization\n",
    "- separate training and val data\n",
    "- save model every epoch if loss improved from last best\n",
    "- save init embeddings to reuse them later or for other models"
   ]
  },
  {
   "cell_type": "markdown",
   "metadata": {},
   "source": [
    "# LightGCN\n",
    "\n",
    "#### Approach:\n",
    "- In this notebook we implement an adapted version of the LightGCN model for collaborative filtering from the [LightGCN paper](https://arxiv.org/pdf/2002.02126.pdf).\n",
    "- The adaptation is necessary, since the original model is meant for recommendation (ranking), and not matrix completion.\n",
    "- From the LightGCN paper we implement the multi-layer, symmetrically normalized, message passing mechanism.\n",
    "- The adaptation comes from the [GCMC paper](https://www.kdd.org/kdd2018/files/deep-learning-day/DLDay18_paper_32.pdf), where they propose stacking the layer embeddings as way to aggregate information from the message passing (for each user and for each item separately). The LightGCN paper used a simple averaging of the layer embeddings.\n",
    "- To make the final predictions, we use an MLP, which is trained to predict the ratings, which comes from the [neural collaborative filtering paper](https://arxiv.org/pdf/1708.05031.pdf).\n",
    "\n",
    "#### Choices\n",
    "- No mini-batching of training data, doesn't improve performance (according to paper), slows convergence down. \n",
    "- Regularization through dropout (from the GCMC paper), and L2 regularization (weight decay in the Adam optimizer).\n",
    "\n",
    "#### Resources:\n",
    "- [LightGCN implementation](https://www.youtube.com/watch?v=LPfCmwEOsds)\n",
    "- [Explanation of message passing and normalization](https://www.youtube.com/watch?v=CwHNUX2GWvE&t=3s)\n",
    "- [Graph Attention Networks implementation](https://www.youtube.com/watch?v=CwsPoa7z2c8&list=PLgWXxgQ6T1Ou8_52nIZRMhrn1qFT73b-d&index=3)"
   ]
  },
  {
   "cell_type": "markdown",
   "metadata": {},
   "source": [
    "## 1. Setup\n",
    "- import libraries, functions and raw data\n",
    "- define constants (n_users, n_items)\n",
    "- inspect raw data\n",
    "- train-val split\n",
    "- create coo lists\n",
    "- create full bipartite graph matrix\n",
    "- compute message-passing-matrices"
   ]
  },
  {
   "cell_type": "code",
   "execution_count": 2,
   "metadata": {},
   "outputs": [],
   "source": [
    "import os\n",
    "import pandas as pd\n",
    "import numpy as np\n",
    "import torch\n",
    "from torch import nn\n",
    "import matplotlib.pyplot as plt\n",
    "from sklearn.model_selection import train_test_split"
   ]
  },
  {
   "cell_type": "code",
   "execution_count": 3,
   "metadata": {},
   "outputs": [
    {
     "name": "stdout",
     "output_type": "stream",
     "text": [
      "Device: mps\n",
      "Full matrix entries: 10 MIO\n"
     ]
    },
    {
     "ename": "FileNotFoundError",
     "evalue": "[Errno 2] No such file or directory: '../data/raw_data/sample_submission.csv'",
     "output_type": "error",
     "traceback": [
      "\u001b[0;31m---------------------------------------------------------------------------\u001b[0m",
      "\u001b[0;31mFileNotFoundError\u001b[0m                         Traceback (most recent call last)",
      "Cell \u001b[0;32mIn[3], line 14\u001b[0m\n\u001b[1;32m     12\u001b[0m train_df \u001b[38;5;241m=\u001b[39m pd\u001b[38;5;241m.\u001b[39mread_csv(\u001b[38;5;124m'\u001b[39m\u001b[38;5;124m../data/raw_data/train.csv\u001b[39m\u001b[38;5;124m'\u001b[39m)\n\u001b[1;32m     13\u001b[0m train_ids \u001b[38;5;241m=\u001b[39m train_df\u001b[38;5;241m.\u001b[39mId \n\u001b[0;32m---> 14\u001b[0m submission_df \u001b[38;5;241m=\u001b[39m \u001b[43mpd\u001b[49m\u001b[38;5;241;43m.\u001b[39;49m\u001b[43mread_csv\u001b[49m\u001b[43m(\u001b[49m\u001b[38;5;124;43m'\u001b[39;49m\u001b[38;5;124;43m../data/raw_data/sample_submission.csv\u001b[39;49m\u001b[38;5;124;43m'\u001b[39;49m\u001b[43m)\u001b[49m\n\u001b[1;32m     15\u001b[0m submission_ids \u001b[38;5;241m=\u001b[39m submission_df\u001b[38;5;241m.\u001b[39mId\n\u001b[1;32m     16\u001b[0m \u001b[38;5;28mprint\u001b[39m(\u001b[38;5;124m\"\u001b[39m\u001b[38;5;124mObserved entries (train + val):\u001b[39m\u001b[38;5;124m\"\u001b[39m, train_df\u001b[38;5;241m.\u001b[39mshape[\u001b[38;5;241m0\u001b[39m])\n",
      "File \u001b[0;32m~/Desktop/CIL-project/.venv/lib/python3.9/site-packages/pandas/io/parsers/readers.py:1026\u001b[0m, in \u001b[0;36mread_csv\u001b[0;34m(filepath_or_buffer, sep, delimiter, header, names, index_col, usecols, dtype, engine, converters, true_values, false_values, skipinitialspace, skiprows, skipfooter, nrows, na_values, keep_default_na, na_filter, verbose, skip_blank_lines, parse_dates, infer_datetime_format, keep_date_col, date_parser, date_format, dayfirst, cache_dates, iterator, chunksize, compression, thousands, decimal, lineterminator, quotechar, quoting, doublequote, escapechar, comment, encoding, encoding_errors, dialect, on_bad_lines, delim_whitespace, low_memory, memory_map, float_precision, storage_options, dtype_backend)\u001b[0m\n\u001b[1;32m   1013\u001b[0m kwds_defaults \u001b[38;5;241m=\u001b[39m _refine_defaults_read(\n\u001b[1;32m   1014\u001b[0m     dialect,\n\u001b[1;32m   1015\u001b[0m     delimiter,\n\u001b[0;32m   (...)\u001b[0m\n\u001b[1;32m   1022\u001b[0m     dtype_backend\u001b[38;5;241m=\u001b[39mdtype_backend,\n\u001b[1;32m   1023\u001b[0m )\n\u001b[1;32m   1024\u001b[0m kwds\u001b[38;5;241m.\u001b[39mupdate(kwds_defaults)\n\u001b[0;32m-> 1026\u001b[0m \u001b[38;5;28;01mreturn\u001b[39;00m \u001b[43m_read\u001b[49m\u001b[43m(\u001b[49m\u001b[43mfilepath_or_buffer\u001b[49m\u001b[43m,\u001b[49m\u001b[43m \u001b[49m\u001b[43mkwds\u001b[49m\u001b[43m)\u001b[49m\n",
      "File \u001b[0;32m~/Desktop/CIL-project/.venv/lib/python3.9/site-packages/pandas/io/parsers/readers.py:620\u001b[0m, in \u001b[0;36m_read\u001b[0;34m(filepath_or_buffer, kwds)\u001b[0m\n\u001b[1;32m    617\u001b[0m _validate_names(kwds\u001b[38;5;241m.\u001b[39mget(\u001b[38;5;124m\"\u001b[39m\u001b[38;5;124mnames\u001b[39m\u001b[38;5;124m\"\u001b[39m, \u001b[38;5;28;01mNone\u001b[39;00m))\n\u001b[1;32m    619\u001b[0m \u001b[38;5;66;03m# Create the parser.\u001b[39;00m\n\u001b[0;32m--> 620\u001b[0m parser \u001b[38;5;241m=\u001b[39m \u001b[43mTextFileReader\u001b[49m\u001b[43m(\u001b[49m\u001b[43mfilepath_or_buffer\u001b[49m\u001b[43m,\u001b[49m\u001b[43m \u001b[49m\u001b[38;5;241;43m*\u001b[39;49m\u001b[38;5;241;43m*\u001b[39;49m\u001b[43mkwds\u001b[49m\u001b[43m)\u001b[49m\n\u001b[1;32m    622\u001b[0m \u001b[38;5;28;01mif\u001b[39;00m chunksize \u001b[38;5;129;01mor\u001b[39;00m iterator:\n\u001b[1;32m    623\u001b[0m     \u001b[38;5;28;01mreturn\u001b[39;00m parser\n",
      "File \u001b[0;32m~/Desktop/CIL-project/.venv/lib/python3.9/site-packages/pandas/io/parsers/readers.py:1620\u001b[0m, in \u001b[0;36mTextFileReader.__init__\u001b[0;34m(self, f, engine, **kwds)\u001b[0m\n\u001b[1;32m   1617\u001b[0m     \u001b[38;5;28mself\u001b[39m\u001b[38;5;241m.\u001b[39moptions[\u001b[38;5;124m\"\u001b[39m\u001b[38;5;124mhas_index_names\u001b[39m\u001b[38;5;124m\"\u001b[39m] \u001b[38;5;241m=\u001b[39m kwds[\u001b[38;5;124m\"\u001b[39m\u001b[38;5;124mhas_index_names\u001b[39m\u001b[38;5;124m\"\u001b[39m]\n\u001b[1;32m   1619\u001b[0m \u001b[38;5;28mself\u001b[39m\u001b[38;5;241m.\u001b[39mhandles: IOHandles \u001b[38;5;241m|\u001b[39m \u001b[38;5;28;01mNone\u001b[39;00m \u001b[38;5;241m=\u001b[39m \u001b[38;5;28;01mNone\u001b[39;00m\n\u001b[0;32m-> 1620\u001b[0m \u001b[38;5;28mself\u001b[39m\u001b[38;5;241m.\u001b[39m_engine \u001b[38;5;241m=\u001b[39m \u001b[38;5;28;43mself\u001b[39;49m\u001b[38;5;241;43m.\u001b[39;49m\u001b[43m_make_engine\u001b[49m\u001b[43m(\u001b[49m\u001b[43mf\u001b[49m\u001b[43m,\u001b[49m\u001b[43m \u001b[49m\u001b[38;5;28;43mself\u001b[39;49m\u001b[38;5;241;43m.\u001b[39;49m\u001b[43mengine\u001b[49m\u001b[43m)\u001b[49m\n",
      "File \u001b[0;32m~/Desktop/CIL-project/.venv/lib/python3.9/site-packages/pandas/io/parsers/readers.py:1880\u001b[0m, in \u001b[0;36mTextFileReader._make_engine\u001b[0;34m(self, f, engine)\u001b[0m\n\u001b[1;32m   1878\u001b[0m     \u001b[38;5;28;01mif\u001b[39;00m \u001b[38;5;124m\"\u001b[39m\u001b[38;5;124mb\u001b[39m\u001b[38;5;124m\"\u001b[39m \u001b[38;5;129;01mnot\u001b[39;00m \u001b[38;5;129;01min\u001b[39;00m mode:\n\u001b[1;32m   1879\u001b[0m         mode \u001b[38;5;241m+\u001b[39m\u001b[38;5;241m=\u001b[39m \u001b[38;5;124m\"\u001b[39m\u001b[38;5;124mb\u001b[39m\u001b[38;5;124m\"\u001b[39m\n\u001b[0;32m-> 1880\u001b[0m \u001b[38;5;28mself\u001b[39m\u001b[38;5;241m.\u001b[39mhandles \u001b[38;5;241m=\u001b[39m \u001b[43mget_handle\u001b[49m\u001b[43m(\u001b[49m\n\u001b[1;32m   1881\u001b[0m \u001b[43m    \u001b[49m\u001b[43mf\u001b[49m\u001b[43m,\u001b[49m\n\u001b[1;32m   1882\u001b[0m \u001b[43m    \u001b[49m\u001b[43mmode\u001b[49m\u001b[43m,\u001b[49m\n\u001b[1;32m   1883\u001b[0m \u001b[43m    \u001b[49m\u001b[43mencoding\u001b[49m\u001b[38;5;241;43m=\u001b[39;49m\u001b[38;5;28;43mself\u001b[39;49m\u001b[38;5;241;43m.\u001b[39;49m\u001b[43moptions\u001b[49m\u001b[38;5;241;43m.\u001b[39;49m\u001b[43mget\u001b[49m\u001b[43m(\u001b[49m\u001b[38;5;124;43m\"\u001b[39;49m\u001b[38;5;124;43mencoding\u001b[39;49m\u001b[38;5;124;43m\"\u001b[39;49m\u001b[43m,\u001b[49m\u001b[43m \u001b[49m\u001b[38;5;28;43;01mNone\u001b[39;49;00m\u001b[43m)\u001b[49m\u001b[43m,\u001b[49m\n\u001b[1;32m   1884\u001b[0m \u001b[43m    \u001b[49m\u001b[43mcompression\u001b[49m\u001b[38;5;241;43m=\u001b[39;49m\u001b[38;5;28;43mself\u001b[39;49m\u001b[38;5;241;43m.\u001b[39;49m\u001b[43moptions\u001b[49m\u001b[38;5;241;43m.\u001b[39;49m\u001b[43mget\u001b[49m\u001b[43m(\u001b[49m\u001b[38;5;124;43m\"\u001b[39;49m\u001b[38;5;124;43mcompression\u001b[39;49m\u001b[38;5;124;43m\"\u001b[39;49m\u001b[43m,\u001b[49m\u001b[43m \u001b[49m\u001b[38;5;28;43;01mNone\u001b[39;49;00m\u001b[43m)\u001b[49m\u001b[43m,\u001b[49m\n\u001b[1;32m   1885\u001b[0m \u001b[43m    \u001b[49m\u001b[43mmemory_map\u001b[49m\u001b[38;5;241;43m=\u001b[39;49m\u001b[38;5;28;43mself\u001b[39;49m\u001b[38;5;241;43m.\u001b[39;49m\u001b[43moptions\u001b[49m\u001b[38;5;241;43m.\u001b[39;49m\u001b[43mget\u001b[49m\u001b[43m(\u001b[49m\u001b[38;5;124;43m\"\u001b[39;49m\u001b[38;5;124;43mmemory_map\u001b[39;49m\u001b[38;5;124;43m\"\u001b[39;49m\u001b[43m,\u001b[49m\u001b[43m \u001b[49m\u001b[38;5;28;43;01mFalse\u001b[39;49;00m\u001b[43m)\u001b[49m\u001b[43m,\u001b[49m\n\u001b[1;32m   1886\u001b[0m \u001b[43m    \u001b[49m\u001b[43mis_text\u001b[49m\u001b[38;5;241;43m=\u001b[39;49m\u001b[43mis_text\u001b[49m\u001b[43m,\u001b[49m\n\u001b[1;32m   1887\u001b[0m \u001b[43m    \u001b[49m\u001b[43merrors\u001b[49m\u001b[38;5;241;43m=\u001b[39;49m\u001b[38;5;28;43mself\u001b[39;49m\u001b[38;5;241;43m.\u001b[39;49m\u001b[43moptions\u001b[49m\u001b[38;5;241;43m.\u001b[39;49m\u001b[43mget\u001b[49m\u001b[43m(\u001b[49m\u001b[38;5;124;43m\"\u001b[39;49m\u001b[38;5;124;43mencoding_errors\u001b[39;49m\u001b[38;5;124;43m\"\u001b[39;49m\u001b[43m,\u001b[49m\u001b[43m \u001b[49m\u001b[38;5;124;43m\"\u001b[39;49m\u001b[38;5;124;43mstrict\u001b[39;49m\u001b[38;5;124;43m\"\u001b[39;49m\u001b[43m)\u001b[49m\u001b[43m,\u001b[49m\n\u001b[1;32m   1888\u001b[0m \u001b[43m    \u001b[49m\u001b[43mstorage_options\u001b[49m\u001b[38;5;241;43m=\u001b[39;49m\u001b[38;5;28;43mself\u001b[39;49m\u001b[38;5;241;43m.\u001b[39;49m\u001b[43moptions\u001b[49m\u001b[38;5;241;43m.\u001b[39;49m\u001b[43mget\u001b[49m\u001b[43m(\u001b[49m\u001b[38;5;124;43m\"\u001b[39;49m\u001b[38;5;124;43mstorage_options\u001b[39;49m\u001b[38;5;124;43m\"\u001b[39;49m\u001b[43m,\u001b[49m\u001b[43m \u001b[49m\u001b[38;5;28;43;01mNone\u001b[39;49;00m\u001b[43m)\u001b[49m\u001b[43m,\u001b[49m\n\u001b[1;32m   1889\u001b[0m \u001b[43m\u001b[49m\u001b[43m)\u001b[49m\n\u001b[1;32m   1890\u001b[0m \u001b[38;5;28;01massert\u001b[39;00m \u001b[38;5;28mself\u001b[39m\u001b[38;5;241m.\u001b[39mhandles \u001b[38;5;129;01mis\u001b[39;00m \u001b[38;5;129;01mnot\u001b[39;00m \u001b[38;5;28;01mNone\u001b[39;00m\n\u001b[1;32m   1891\u001b[0m f \u001b[38;5;241m=\u001b[39m \u001b[38;5;28mself\u001b[39m\u001b[38;5;241m.\u001b[39mhandles\u001b[38;5;241m.\u001b[39mhandle\n",
      "File \u001b[0;32m~/Desktop/CIL-project/.venv/lib/python3.9/site-packages/pandas/io/common.py:873\u001b[0m, in \u001b[0;36mget_handle\u001b[0;34m(path_or_buf, mode, encoding, compression, memory_map, is_text, errors, storage_options)\u001b[0m\n\u001b[1;32m    868\u001b[0m \u001b[38;5;28;01melif\u001b[39;00m \u001b[38;5;28misinstance\u001b[39m(handle, \u001b[38;5;28mstr\u001b[39m):\n\u001b[1;32m    869\u001b[0m     \u001b[38;5;66;03m# Check whether the filename is to be opened in binary mode.\u001b[39;00m\n\u001b[1;32m    870\u001b[0m     \u001b[38;5;66;03m# Binary mode does not support 'encoding' and 'newline'.\u001b[39;00m\n\u001b[1;32m    871\u001b[0m     \u001b[38;5;28;01mif\u001b[39;00m ioargs\u001b[38;5;241m.\u001b[39mencoding \u001b[38;5;129;01mand\u001b[39;00m \u001b[38;5;124m\"\u001b[39m\u001b[38;5;124mb\u001b[39m\u001b[38;5;124m\"\u001b[39m \u001b[38;5;129;01mnot\u001b[39;00m \u001b[38;5;129;01min\u001b[39;00m ioargs\u001b[38;5;241m.\u001b[39mmode:\n\u001b[1;32m    872\u001b[0m         \u001b[38;5;66;03m# Encoding\u001b[39;00m\n\u001b[0;32m--> 873\u001b[0m         handle \u001b[38;5;241m=\u001b[39m \u001b[38;5;28;43mopen\u001b[39;49m\u001b[43m(\u001b[49m\n\u001b[1;32m    874\u001b[0m \u001b[43m            \u001b[49m\u001b[43mhandle\u001b[49m\u001b[43m,\u001b[49m\n\u001b[1;32m    875\u001b[0m \u001b[43m            \u001b[49m\u001b[43mioargs\u001b[49m\u001b[38;5;241;43m.\u001b[39;49m\u001b[43mmode\u001b[49m\u001b[43m,\u001b[49m\n\u001b[1;32m    876\u001b[0m \u001b[43m            \u001b[49m\u001b[43mencoding\u001b[49m\u001b[38;5;241;43m=\u001b[39;49m\u001b[43mioargs\u001b[49m\u001b[38;5;241;43m.\u001b[39;49m\u001b[43mencoding\u001b[49m\u001b[43m,\u001b[49m\n\u001b[1;32m    877\u001b[0m \u001b[43m            \u001b[49m\u001b[43merrors\u001b[49m\u001b[38;5;241;43m=\u001b[39;49m\u001b[43merrors\u001b[49m\u001b[43m,\u001b[49m\n\u001b[1;32m    878\u001b[0m \u001b[43m            \u001b[49m\u001b[43mnewline\u001b[49m\u001b[38;5;241;43m=\u001b[39;49m\u001b[38;5;124;43m\"\u001b[39;49m\u001b[38;5;124;43m\"\u001b[39;49m\u001b[43m,\u001b[49m\n\u001b[1;32m    879\u001b[0m \u001b[43m        \u001b[49m\u001b[43m)\u001b[49m\n\u001b[1;32m    880\u001b[0m     \u001b[38;5;28;01melse\u001b[39;00m:\n\u001b[1;32m    881\u001b[0m         \u001b[38;5;66;03m# Binary mode\u001b[39;00m\n\u001b[1;32m    882\u001b[0m         handle \u001b[38;5;241m=\u001b[39m \u001b[38;5;28mopen\u001b[39m(handle, ioargs\u001b[38;5;241m.\u001b[39mmode)\n",
      "\u001b[0;31mFileNotFoundError\u001b[0m: [Errno 2] No such file or directory: '../data/raw_data/sample_submission.csv'"
     ]
    }
   ],
   "source": [
    "# set device for computations\n",
    "if torch.device(\"mps\"):\n",
    "    device = torch.device(\"mps\")\n",
    "else:\n",
    "    device = torch.device(\"cpu\")\n",
    "print(\"Device:\", device)\n",
    "\n",
    "# number of users and items\n",
    "N_u, N_v = (10000, 1000)\n",
    "print(\"Full matrix entries: 10 MIO\")\n",
    "\n",
    "train_df = pd.read_csv('../data/raw_data/train.csv')\n",
    "train_ids = train_df.Id \n",
    "submission_df = pd.read_csv('../data/raw_data/sample_submission.csv')\n",
    "submission_ids = submission_df.Id\n",
    "print(\"Observed entries (train + val):\", train_df.shape[0])\n",
    "print(\"Density:\", train_df.shape[0] / (N_u * N_v))\n",
    "train_df.head()"
   ]
  },
  {
   "cell_type": "code",
   "execution_count": null,
   "metadata": {},
   "outputs": [
    {
     "name": "stdout",
     "output_type": "stream",
     "text": [
      "Index(['Id', 'Prediction'], dtype='object')\n",
      "[RangeIndex(start=0, stop=1176952, step=1), Index(['Id', 'Prediction'], dtype='object')]\n",
      "(1176952, 2)\n",
      "min 1\n",
      "max 5\n",
      "mean 3.8572805008190647\n",
      "       Id  Prediction\n",
      "0  r44_c1           4\n",
      "1  r61_c1           3\n",
      "2  r67_c1           4\n"
     ]
    },
    {
     "data": {
      "image/png": "[encoded data removed]",
      "text/plain": [
       "<Figure size 640x480 with 1 Axes>"
      ]
     },
     "metadata": {},
     "output_type": "display_data"
    }
   ],
   "source": [
    "# inspect data\n",
    "\n",
    "# data format\n",
    "print(train_df.columns)\n",
    "print(train_df.axes)\n",
    "print(train_df.shape)\n",
    "print(\"min\", train_df['Prediction'].min())\n",
    "print(\"max\", train_df['Prediction'].max())\n",
    "print(\"mean\", train_df['Prediction'].mean())\n",
    "print(train_df[0:3])\n",
    "\n",
    "# data distribution\n",
    "plt.hist(train_df['Prediction'], bins=100)\n",
    "plt.show()"
   ]
  },
  {
   "cell_type": "code",
   "execution_count": null,
   "metadata": {},
   "outputs": [],
   "source": [
    "# Extract triplets (user, item, prediction)\n",
    "def extract_users_items_predictions(data):\n",
    "    users, movies = \\\n",
    "        [np.squeeze(arr) for arr in np.split(data.Id.str.extract('r(\\d+)_c(\\d+)').values.astype(int) - 1, 2, axis=-1)]\n",
    "    predictions = data.Prediction.values\n",
    "    return users, movies, predictions\n",
    "\n",
    "# Adjacency lists: observed values edge index (src, tgt) and ratings (values)\n",
    "submission_users, submission_movies, _ = extract_users_items_predictions(submission_df)\n",
    "orig_users, orig_items, orig_ratings = extract_users_items_predictions(train_df)"
   ]
  },
  {
   "cell_type": "code",
   "execution_count": null,
   "metadata": {},
   "outputs": [],
   "source": [
    "# Create a ratings matrix from the triplets\n",
    "original_ratings_matrix = np.zeros((N_u, N_v))\n",
    "original_ratings_matrix[orig_users, orig_items] = orig_ratings\n",
    "\n",
    "# Define mask for later use\n",
    "mask = original_ratings_matrix != 0"
   ]
  },
  {
   "cell_type": "code",
   "execution_count": null,
   "metadata": {},
   "outputs": [],
   "source": [
    "# standardize ratings of original matrix\n",
    "\n",
    "def standardize_excluding_zeros(ratings, mask):\n",
    "    # Compute means and stds of non-zero elements\n",
    "    sums = np.sum(ratings * mask, axis=0, keepdims=True)\n",
    "    counts = np.sum(mask, axis=0, keepdims=True)\n",
    "    means = sums / counts\n",
    "    variances = np.sum(((ratings - means) * mask) ** 2, axis=0, keepdims=True) / counts\n",
    "    stds = np.sqrt(variances)\n",
    "    standardized_ratings = (ratings - means) / stds\n",
    "\n",
    "    # Preserve original zeros\n",
    "    standardized_ratings[~mask] = 0  \n",
    "\n",
    "    # For simplicity make matrix of means and stds with same shape as ratings\n",
    "    means = np.repeat(means, ratings.shape[0], axis=0)\n",
    "    stds = np.repeat(stds, ratings.shape[0], axis=0)\n",
    "\n",
    "    return standardized_ratings, means, stds\n",
    "\n",
    "# Standardize the ratings matrix across columns (items) and extract ratings list for observed values\n",
    "standardized_ratings_matrix, means, stds = standardize_excluding_zeros(original_ratings_matrix, mask)\n",
    "standardized_ratings = standardized_ratings_matrix[orig_users, orig_items]"
   ]
  },
  {
   "cell_type": "code",
   "execution_count": null,
   "metadata": {},
   "outputs": [],
   "source": [
    "# test reverse standardization\n",
    "\n",
    "# !!! Only used for testing\n",
    "def reverse_standardize(standardized_ratings, mask, means, stds):\n",
    "    # shape of all inputs: (n_users, n_items)\n",
    "    reversed_ratings = standardized_ratings * stds + means\n",
    "    reversed_ratings[~mask] = 0  # Preserve original zeros\n",
    "    return reversed_ratings\n",
    "\n",
    "recovered_ratings_matrix = reverse_standardize(standardized_ratings_matrix, mask, means, stds)\n",
    "assert np.allclose(recovered_ratings_matrix, original_ratings_matrix, equal_nan=True)"
   ]
  },
  {
   "cell_type": "code",
   "execution_count": null,
   "metadata": {},
   "outputs": [
    {
     "name": "stdout",
     "output_type": "stream",
     "text": [
      "Train set size: 1166952\n",
      "Val set size: 10000\n"
     ]
    }
   ],
   "source": [
    "# split into training and validation set\n",
    "\n",
    "train_users, val_users, train_items, val_items, standardized_train_ratings, standardized_val_ratings = \\\n",
    "    train_test_split(orig_users, orig_items, standardized_ratings, test_size=0.008496, random_state=42)\n",
    "\n",
    "print(\"Train set size:\", len(train_users))\n",
    "print(\"Val set size:\", len(val_users))"
   ]
  },
  {
   "cell_type": "code",
   "execution_count": null,
   "metadata": {},
   "outputs": [],
   "source": [
    "# convert to torch tensors and move to device\n",
    "standardized_train_ratings = torch.tensor(standardized_train_ratings, dtype=torch.float).to(device)\n",
    "train_users = torch.tensor(train_users, dtype=torch.long).to(device)\n",
    "train_items = torch.tensor(train_items, dtype=torch.long).to(device)\n",
    "\n",
    "standardized_val_ratings = torch.tensor(standardized_val_ratings, dtype=torch.float).to(device)\n",
    "val_users = torch.tensor(val_users, dtype=torch.long).to(device)\n",
    "val_items = torch.tensor(val_items, dtype=torch.long).to(device)"
   ]
  },
  {
   "cell_type": "code",
   "execution_count": null,
   "metadata": {},
   "outputs": [],
   "source": [
    "def create_bipartite_graph(users, items, preds):\n",
    "    \"\"\"\n",
    "    Create a bipartite graph from the users, items and predictions.\n",
    "        graph: [[0, R], [R^T, 0]] \n",
    "        shape: [ [N_u x N_u], [N_u x N_v], \n",
    "                 [N_v x N_u], [N_v x N_v] ]\n",
    "    \"\"\"\n",
    "    # Create the upper left block (N_u x N_u) with zeros\n",
    "    upper_left = torch.zeros((N_u, N_u), device=device)\n",
    "    \n",
    "    # Create the upper right block (N_u x N_v) and fill with preds\n",
    "    upper_right = torch.zeros((N_u, N_v), device=device)\n",
    "    upper_right[users, items] = preds\n",
    "\n",
    "    # Create the lower left block (N_v x N_u) and fill with preds (transposed)\n",
    "    lower_left = torch.zeros((N_v, N_u), device=device)\n",
    "    lower_left[items, users] = preds\n",
    "\n",
    "    # Create the lower right block (N_v x N_v) with zeros\n",
    "    lower_right = torch.zeros((N_v, N_v), device=device)\n",
    "\n",
    "    # Concatenate the blocks to form the bipartite adjacency matrix\n",
    "    upper_block = torch.cat([upper_left, upper_right], dim=1)\n",
    "    lower_block = torch.cat([lower_left, lower_right], dim=1)\n",
    "    A = torch.cat([upper_block, lower_block], dim=0)\n",
    "\n",
    "    return A\n",
    "\n",
    "def create_degree_matrix(weighted_adjacency_matrix):\n",
    "    # Binarize the weighted adjacency matrix: where not 0 put 1\n",
    "    binarized_adjacency_matrix = (weighted_adjacency_matrix != 0).int()\n",
    "    # Sum the binarized adjacency matrix along axis 1 to get the degree of each node\n",
    "    degrees = torch.sum(binarized_adjacency_matrix, dim=1)\n",
    "    # Create a diagonal matrix with the degrees\n",
    "    degree_matrix = torch.diag(degrees)\n",
    "    return degree_matrix\n",
    "\n",
    "def create_inverse_sqrt_degree_matrix(degree_matrix):\n",
    "    # Get the degrees from the diagonal of the degree matrix\n",
    "    degrees = degree_matrix.diag()\n",
    "    # Compute the inverse square root of the degrees\n",
    "    inverse_sqrt_degrees = 1.0 / torch.sqrt(degrees)\n",
    "    # Create a diagonal matrix with the inverse square root degrees\n",
    "    inverse_sqrt_degree_matrix = torch.diag(inverse_sqrt_degrees)\n",
    "    return inverse_sqrt_degree_matrix"
   ]
  },
  {
   "cell_type": "code",
   "execution_count": null,
   "metadata": {},
   "outputs": [],
   "source": [
    "# TRAIN (train): Create matrices for message passing\n",
    "\n",
    "# Create the bipartite graph adjacency matrix\n",
    "A_train = create_bipartite_graph(train_users, train_items, standardized_train_ratings)\n",
    "D_train = create_degree_matrix(A_train)\n",
    "D_norm_train = create_inverse_sqrt_degree_matrix(D_train)\n",
    "\n",
    "# Compute the normalized adjacency matrix\n",
    "A_tilde_train = D_norm_train @ A_train @ D_norm_train\n",
    "A_tilde_train = A_tilde_train.to(device)"
   ]
  },
  {
   "cell_type": "markdown",
   "metadata": {},
   "source": [
    "## 2. Modeling\n",
    "\n",
    "Once we have the edge indexes and the bipartite graphs, we can start we have everything for the model and the training.\n",
    "\n",
    "The models:\n",
    "- avg: averages the embeddings over the layers\n",
    "- concat linear: concatenates the embeddings over the layers and projects them to the output space\n",
    "- concat nonlinear: concatenates the embeddings over the layers, and projects to the output space with a 2-layer MLP"
   ]
  },
  {
   "cell_type": "code",
   "execution_count": null,
   "metadata": {},
   "outputs": [],
   "source": [
    "# implementation with mat mul instead of sparse message passing\n",
    "\n",
    "class LightGCN(nn.Module):\n",
    "    def __init__(self, A_tilde, embedding_dim, n_users, n_items, n_layers, init_emb_std=0.1, model_name='concat_linear'):\n",
    "        super(LightGCN, self).__init__()\n",
    "        self.A_tilde = A_tilde  # A_tilde: normalized adjacency matrix\n",
    "        self.K = embedding_dim\n",
    "        self.N_u = n_users\n",
    "        self.N_v = n_items\n",
    "        self.L = n_layers\n",
    "        self.model_name = model_name    \n",
    "\n",
    "        # initialize embeddings\n",
    "        self.E_u = nn.Embedding(num_embeddings=self.N_u, embedding_dim=self.K)\n",
    "        self.E_v = nn.Embedding(num_embeddings=self.N_v, embedding_dim=self.K)\n",
    "        nn.init.normal_(self.E_u.weight, std=init_emb_std)\n",
    "        nn.init.normal_(self.E_v.weight, std=init_emb_std)\n",
    "\n",
    "        if model_name == 'avg':\n",
    "            self.transform = nn.Linear(self.K * 2, 1)\n",
    "        elif model_name == 'concat_linear':\n",
    "            self.transform = nn.Linear(self.K * 2 * (self.L + 1), 1)\n",
    "        elif model_name == 'concat_nonlinear':\n",
    "            self.transform = nn.Sequential(\n",
    "                nn.Linear(self.K * 2 * (self.L + 1), self.K),  # if L=1, the linear projects from 4K to 2K\n",
    "                nn.GELU(),          # try 4K->K->1, 4K->2K->1, 4K->2K->K->1\n",
    "                nn.Linear(self.K, 1)  #,                \n",
    "                # nn.GELU(),\n",
    "                # nn.Linear(self.K, 1)\n",
    "            )\n",
    "        elif model_name == 'attention':\n",
    "            self.W = nn.Parameter(torch.Tensor(self.K, self.K))\n",
    "            self.a = nn.Parameter(torch.Tensor(2 * self.K, 1))\n",
    "            nn.init.xavier_uniform_(self.W)\n",
    "            nn.init.xavier_uniform_(self.a)\n",
    "        elif model_name == 'mh_attention':\n",
    "            pass\n",
    "        else:\n",
    "            raise ValueError(f\"Unknown model_name: {model_name}\")\n",
    "\n",
    "    def forward(self, users, items):\n",
    "        E_0 = torch.cat([self.E_u.weight, self.E_v.weight], dim=0)  # size (N_u + N_v) x K\n",
    "        assert E_0.shape == (self.N_u + self.N_v, self.K) \n",
    "\n",
    "        embs = [E_0]\n",
    "        E_l = E_0\n",
    "\n",
    "        # TODO: check that this is the same as message passing\n",
    "        # propagate provided by MessagePassing \n",
    "        for l in range(self.L):\n",
    "            E_l = torch.mm(self.A_tilde, E_l)  # shape (N_u + N_v) x K\n",
    "            embs.append(E_l) \n",
    "\n",
    "        # combine embeddings\n",
    "        if self.model_name == 'avg':\n",
    "            print(embs[0].shape)\n",
    "            embs = torch.stack(embs, dim=1)  # shape: (L+1) x (N_u + N_v) * K -stack-> (N_u + N_v) x (L+1) * K\n",
    "            print(embs.shape)\n",
    "            E_final = torch.mean(embs, dim=1)  # shape (N_u + N_v) x K\n",
    "            print(E_final.shape)\n",
    "            E_u_final, E_v_final = torch.split(E_final, [self.N_u, self.N_v], dim=0)\n",
    "            # select embeddings for users and items (aligned)\n",
    "            E_u_final = E_u_final[users]\n",
    "            E_v_final = E_v_final[items]  # shape (N_train, K)\n",
    "            out = self.transform(torch.cat([E_u_final, E_v_final], dim=1)).squeeze()  # shape: (N_train, 1) -squeeze-> (N_train,)\n",
    "\n",
    "        elif self.model_name == 'concat_linear' or self.model_name == 'concat_nonlinear':\n",
    "            E_final = torch.cat(embs, dim=1)  # shape (N_u + N_v) x (K * (L + 1))\n",
    "            E_u_final, E_v_final = torch.split(E_final, [self.N_u, self.N_v], dim=0)\n",
    "            # select embeddings for users and items (aligned)\n",
    "            E_u_final = E_u_final[users]\n",
    "            E_v_final = E_v_final[items]  # shape (N_train, K * (L + 1))\n",
    "\n",
    "            # projection to output space\n",
    "            out = self.transform(torch.cat([E_u_final, E_v_final], dim=1)).squeeze()  \n",
    "\n",
    "        elif self.model_name == 'attention':\n",
    "            # we pick the average embeddings for users and items from the LightGCN approach for the encoder\n",
    "            # for the decoder we use attention mechanism \n",
    "            # e_ij = LeakyReLU( a^T [(W * E_u_i) concat (W * E_v_j)] ), where a is a learnable vector in R^2K and W is a learnable matrix in R^{K x K}\n",
    "            # alpha_ij = softmax(e_ij) = exp(e_ij) / sum_{k=1}^{N(i)} exp(e_ik)\n",
    "            # h_i = LeakyReLU( sum_{j=1}^{N(i)} alpha_ij * E_v_j )\n",
    "            # use MLP to predict the rating\n",
    "            \n",
    "\n",
    "            pass\n",
    "\n",
    "        elif self.model_name == 'mh_attention':\n",
    "            pass\n",
    "        return out \n",
    "    \n",
    "    def get_ratings(self, users, items):\n",
    "        return self.forward(users, items)"
   ]
  },
  {
   "cell_type": "markdown",
   "metadata": {},
   "source": [
    "## 3. Training\n",
    "\n",
    "### Optimal conditions to retrain on full dataset:\n",
    "- training is stable: the loss decreases monotonically\n",
    "- validation loss follows the training loss closely\n",
    "- on different initializations the model converges to the same loss with the same amount of epochs\n",
    "\n",
    "### Comments on the results:\n",
    "- i guess now that I standardize the embeddings, the learning rate should be lower \n",
    "- it seems initialization of embeddings is important try 0.075 and other values\n",
    "- also the learning rate plays a big role\n",
    "- the epochs should be placed around 800 to not overfit\n",
    "- concat non-linear seems to be best on training, not sure if it is overfitting"
   ]
  },
  {
   "cell_type": "code",
   "execution_count": null,
   "metadata": {},
   "outputs": [],
   "source": [
    "# Set up training loop\n",
    "L=1\n",
    "K=30\n",
    "MODEL_NAME=\"concat_nonlinear\"\n",
    "LR=0.08\n",
    "EPOCHS=500\n",
    "WEIGHT_DECAY=1e-04\n",
    "INIT_EMBS_STD=0.1\n",
    "STOP_THRESHOLD=1e-06\n",
    "\n",
    "model = LightGCN(A_tilde_train, K, N_u, N_v, L, model_name=MODEL_NAME).to(device)\n",
    "optimizer = torch.optim.Adam(model.parameters(), lr=LR, weight_decay=WEIGHT_DECAY)\n",
    "loss_fn = nn.MSELoss()\n",
    "\n",
    "# Remove models from previous runs\n",
    "if os.path.exists(\"best_val_model.pth\"):\n",
    "    os.remove(\"best_val_model.pth\")"
   ]
  },
  {
   "cell_type": "code",
   "execution_count": null,
   "metadata": {},
   "outputs": [],
   "source": [
    "# Train loop variables (when experimenting manually, we might resume training by re-running the training loop cell)\n",
    "train_rmse = []\n",
    "val_rmse = []\n",
    "best_val_loss = np.inf "
   ]
  },
  {
   "cell_type": "code",
   "execution_count": null,
   "metadata": {},
   "outputs": [
    {
     "name": "stdout",
     "output_type": "stream",
     "text": [
      "Epoch 1, Train Loss: 1.00054, Standardized Val Loss: 1.05464\n",
      "Epoch 2, Train Loss: 1.05911, Standardized Val Loss: 0.98698\n",
      "Epoch 3, Train Loss: 0.99411, Standardized Val Loss: 1.00715\n",
      "Epoch 4, Train Loss: 1.01154, Standardized Val Loss: 0.9698\n",
      "Epoch 5, Train Loss: 0.97348, Standardized Val Loss: 0.94959\n",
      "Epoch 6, Train Loss: 0.94737, Standardized Val Loss: 0.98527\n",
      "Epoch 7, Train Loss: 0.97268, Standardized Val Loss: 0.9378\n",
      "Epoch 8, Train Loss: 0.9343, Standardized Val Loss: 0.95888\n",
      "Epoch 9, Train Loss: 0.95839, Standardized Val Loss: 0.9491\n",
      "Epoch 10, Train Loss: 0.94841, Standardized Val Loss: 0.94994\n",
      "Epoch 11, Train Loss: 0.9461, Standardized Val Loss: 0.94578\n",
      "Epoch 12, Train Loss: 0.93708, Standardized Val Loss: 0.95353\n",
      "Epoch 13, Train Loss: 0.94142, Standardized Val Loss: 0.94351\n",
      "Epoch 14, Train Loss: 0.93303, Standardized Val Loss: 0.94744\n",
      "Epoch 15, Train Loss: 0.93995, Standardized Val Loss: 0.94336\n",
      "Epoch 16, Train Loss: 0.93568, Standardized Val Loss: 0.94396\n",
      "Epoch 17, Train Loss: 0.93269, Standardized Val Loss: 0.94256\n",
      "Epoch 18, Train Loss: 0.93082, Standardized Val Loss: 0.94266\n",
      "Epoch 19, Train Loss: 0.93179, Standardized Val Loss: 0.94024\n",
      "Epoch 20, Train Loss: 0.93019, Standardized Val Loss: 0.93929\n",
      "Epoch 21, Train Loss: 0.92921, Standardized Val Loss: 0.93905\n",
      "Epoch 22, Train Loss: 0.92768, Standardized Val Loss: 0.93924\n",
      "Epoch 23, Train Loss: 0.92737, Standardized Val Loss: 0.93742\n",
      "Epoch 24, Train Loss: 0.92673, Standardized Val Loss: 0.93603\n",
      "Epoch 25, Train Loss: 0.92643, Standardized Val Loss: 0.93564\n",
      "Epoch 26, Train Loss: 0.92546, Standardized Val Loss: 0.93641\n",
      "Epoch 27, Train Loss: 0.9247, Standardized Val Loss: 0.93652\n",
      "Epoch 28, Train Loss: 0.92364, Standardized Val Loss: 0.93571\n",
      "Epoch 29, Train Loss: 0.92229, Standardized Val Loss: 0.9341\n",
      "Epoch 30, Train Loss: 0.92078, Standardized Val Loss: 0.93086\n",
      "Epoch 31, Train Loss: 0.91834, Standardized Val Loss: 0.92829\n",
      "Epoch 32, Train Loss: 0.91517, Standardized Val Loss: 0.92703\n",
      "Epoch 33, Train Loss: 0.91066, Standardized Val Loss: 0.92556\n",
      "Epoch 34, Train Loss: 0.90554, Standardized Val Loss: 0.92557\n",
      "Epoch 35, Train Loss: 0.90168, Standardized Val Loss: 0.92675\n",
      "Epoch 36, Train Loss: 0.90338, Standardized Val Loss: 0.97483\n",
      "Epoch 37, Train Loss: 0.94714, Standardized Val Loss: 1.03607\n",
      "Epoch 38, Train Loss: 1.01396, Standardized Val Loss: 0.94679\n",
      "Epoch 39, Train Loss: 0.93161, Standardized Val Loss: 0.9753\n",
      "Epoch 40, Train Loss: 0.96191, Standardized Val Loss: 0.94812\n",
      "Epoch 41, Train Loss: 0.93542, Standardized Val Loss: 0.94783\n",
      "Epoch 42, Train Loss: 0.93769, Standardized Val Loss: 0.9349\n",
      "Epoch 43, Train Loss: 0.92754, Standardized Val Loss: 0.94046\n",
      "Epoch 44, Train Loss: 0.93504, Standardized Val Loss: 0.93829\n",
      "Epoch 45, Train Loss: 0.934, Standardized Val Loss: 0.93429\n",
      "Epoch 46, Train Loss: 0.92995, Standardized Val Loss: 0.93305\n",
      "Epoch 47, Train Loss: 0.92735, Standardized Val Loss: 0.93348\n",
      "Epoch 48, Train Loss: 0.9253, Standardized Val Loss: 0.93513\n",
      "Epoch 49, Train Loss: 0.92397, Standardized Val Loss: 0.93735\n",
      "Epoch 50, Train Loss: 0.92405, Standardized Val Loss: 0.93736\n",
      "Epoch 51, Train Loss: 0.92397, Standardized Val Loss: 0.93606\n",
      "Epoch 52, Train Loss: 0.92411, Standardized Val Loss: 0.93584\n"
     ]
    },
    {
     "ename": "KeyboardInterrupt",
     "evalue": "",
     "output_type": "error",
     "traceback": [
      "\u001b[0;31m---------------------------------------------------------------------------\u001b[0m",
      "\u001b[0;31mKeyboardInterrupt\u001b[0m                         Traceback (most recent call last)",
      "Cell \u001b[0;32mIn[17], line 11\u001b[0m\n\u001b[1;32m      8\u001b[0m J\u001b[38;5;241m.\u001b[39mbackward()\n\u001b[1;32m      9\u001b[0m optimizer\u001b[38;5;241m.\u001b[39mstep()\n\u001b[0;32m---> 11\u001b[0m train_rmse\u001b[38;5;241m.\u001b[39mappend(\u001b[43mJ\u001b[49m\u001b[38;5;241;43m.\u001b[39;49m\u001b[43mitem\u001b[49m\u001b[43m(\u001b[49m\u001b[43m)\u001b[49m)\n\u001b[1;32m     13\u001b[0m \u001b[38;5;66;03m# validation\u001b[39;00m\n\u001b[1;32m     14\u001b[0m \u001b[38;5;28;01mwith\u001b[39;00m torch\u001b[38;5;241m.\u001b[39mno_grad():\n",
      "\u001b[0;31mKeyboardInterrupt\u001b[0m: "
     ]
    }
   ],
   "source": [
    "# Train loop\n",
    "for epoch in range(EPOCHS):\n",
    "    model.train()\n",
    "    \n",
    "    optimizer.zero_grad()\n",
    "    pred_train_ratings = model.forward(train_users, train_items)\n",
    "    J = loss_fn(pred_train_ratings, standardized_train_ratings)\n",
    "    J.backward()\n",
    "    optimizer.step()\n",
    "\n",
    "    train_rmse.append(J.item())\n",
    "\n",
    "    # validation\n",
    "    with torch.no_grad():\n",
    "        model.eval()\n",
    "        val_pred_ratings = model.forward(val_users, val_items)\n",
    "        standardized_val_loss = loss_fn(val_pred_ratings, standardized_val_ratings)\n",
    "\n",
    "        # save model if best validation loss\n",
    "        if standardized_val_loss < best_val_loss and standardized_val_loss < 0.94:\n",
    "            best_val_loss = standardized_val_loss\n",
    "            torch.save(model.state_dict(), \"best_val_model.pth\")\n",
    "\n",
    "        val_rmse.append(standardized_val_loss.item())\n",
    "\n",
    "    # report results\n",
    "    print(f\"Epoch {epoch + 1}, Train Loss: {round(train_rmse[-1], 5)}, Standardized Val Loss: {round(standardized_val_loss.item(), 5)}\")\n",
    "\n",
    "    # early stopping: loss decreased and diff below threshold\n",
    "    if epoch > 0 \\\n",
    "            and train_rmse[-2] - train_rmse[-1] > 0 \\\n",
    "            and abs(train_rmse[-2] - train_rmse[-1]) < STOP_THRESHOLD:\n",
    "        break   "
   ]
  },
  {
   "cell_type": "code",
   "execution_count": null,
   "metadata": {},
   "outputs": [
    {
     "name": "stdout",
     "output_type": "stream",
     "text": [
      "Min training loss: 0.8580526113510132\n",
      "Min validation loss: 0.8805598020553589\n",
      "Min validation loss at epoch: 111\n"
     ]
    },
    {
     "data": {
      "image/png": "[encoded data removed]",
      "text/plain": [
       "<Figure size 640x480 with 1 Axes>"
      ]
     },
     "metadata": {},
     "output_type": "display_data"
    }
   ],
   "source": [
    "# Training stats\n",
    "print(\"Min training loss:\", min(train_rmse))\n",
    "print(\"Min validation loss:\", min(val_rmse))\n",
    "print(\"Min validation loss at epoch:\", val_rmse.index(min(val_rmse)))\n",
    "\n",
    "# Replace values above 10 with 10 in the rmse lists\n",
    "train_rmse_plot = [min(1, x) for x in train_rmse]\n",
    "val_rmse = [min(1, x) for x in val_rmse]\n",
    "\n",
    "# Plot train and val rmse\n",
    "plt.plot(train_rmse_plot, label='train')\n",
    "plt.plot(val_rmse, label='val')\n",
    "plt.annotate(round(min(val_rmse), 4), (val_rmse.index(min(val_rmse)), min(val_rmse)), textcoords=\"offset points\", xytext=(0,-15), ha='center')\n",
    "plt.axhline(y=min(val_rmse), color='r', linestyle='--')\n",
    "plt.legend()\n",
    "plt.show()"
   ]
  },
  {
   "cell_type": "markdown",
   "metadata": {},
   "source": [
    "## 4. Post-processing"
   ]
  },
  {
   "cell_type": "code",
   "execution_count": null,
   "metadata": {},
   "outputs": [],
   "source": [
    "# Read model that achieved best validation loss\n",
    "model.eval()\n",
    "model.load_state_dict(torch.load(\"best_val_model.pth\"))\n",
    "\n",
    "# Get predictions for submission\n",
    "final_ratings = model.get_ratings(submission_users, submission_movies).cpu().detach().numpy()"
   ]
  },
  {
   "cell_type": "code",
   "execution_count": null,
   "metadata": {},
   "outputs": [
    {
     "name": "stdout",
     "output_type": "stream",
     "text": [
      "Standardized loss on validation set: 0.8805598020553589\n"
     ]
    }
   ],
   "source": [
    "# test loss on validation set\n",
    "with torch.no_grad():\n",
    "    model.eval()\n",
    "    val_pred_ratings = model.forward(val_users, val_items)\n",
    "    standardized_val_loss = loss_fn(val_pred_ratings, standardized_val_ratings)\n",
    "    print(\"Standardized loss on validation set:\", standardized_val_loss.item())"
   ]
  },
  {
   "cell_type": "code",
   "execution_count": null,
   "metadata": {},
   "outputs": [
    {
     "name": "stdout",
     "output_type": "stream",
     "text": [
      "min: -2.4962268\n",
      "max: 1.9302913\n",
      "mean: -0.030282263\n"
     ]
    },
    {
     "data": {
      "image/png": "[encoded data removed]",
      "text/plain": [
       "<Figure size 640x480 with 1 Axes>"
      ]
     },
     "metadata": {},
     "output_type": "display_data"
    }
   ],
   "source": [
    "# Check min and max of final_ratings\n",
    "print(\"min:\", final_ratings.min())\n",
    "print(\"max:\", final_ratings.max())\n",
    "print(\"mean:\", final_ratings.mean())\n",
    "\n",
    "# Check distribution of final_ratings\n",
    "plt.hist(final_ratings.flatten(), bins=100)\n",
    "plt.show()"
   ]
  },
  {
   "cell_type": "code",
   "execution_count": null,
   "metadata": {},
   "outputs": [],
   "source": [
    "# Reverse standardization\n",
    "\n",
    "# Fill matrix with predictions\n",
    "final_ratings_matrix = np.zeros((N_u, N_v))\n",
    "final_ratings_matrix[submission_users, submission_movies] = final_ratings\n",
    "\n",
    "# Reverse standardization (no mask needed)\n",
    "def reverse_standardization(submission_matrix, means, stds):\n",
    "    # shape of all inputs: (n_users, n_items)\n",
    "    reversed_ratings = submission_matrix * stds + means\n",
    "    return reversed_ratings\n",
    "\n",
    "final_ratings_matrix = reverse_standardization(final_ratings_matrix, means, stds)\n",
    "\n",
    "# extract numpy array from ratings matrix\n",
    "final_ratings = final_ratings_matrix[submission_users, submission_movies]\n",
    "final_ratings = torch.tensor(final_ratings, dtype=torch.float).to(device)"
   ]
  },
  {
   "cell_type": "code",
   "execution_count": null,
   "metadata": {},
   "outputs": [
    {
     "name": "stdout",
     "output_type": "stream",
     "text": [
      "min: 0.20616908371448517\n",
      "max: 6.097080230712891\n",
      "mean: 3.8249917030334473\n",
      "count_over_5: 4411\n",
      "count_under_1: 33\n"
     ]
    }
   ],
   "source": [
    "# Clip at 1 and 5\n",
    "\n",
    "# check min and max of final_ratings_rounded\n",
    "print(\"min:\", final_ratings.min().item())\n",
    "print(\"max:\", final_ratings.max().item())\n",
    "print(\"mean:\", final_ratings.mean().item())\n",
    "\n",
    "# Count the number of values under 1 and over 5\n",
    "count_under_1 = (final_ratings < 1).sum().item()\n",
    "count_over_5 = (final_ratings > 5).sum().item()\n",
    "print(\"count_over_5:\", count_over_5)\n",
    "print(\"count_under_1:\", count_under_1)\n",
    "\n",
    "# Clip the values to be within the range [1, 5]\n",
    "final_ratings = final_ratings.clamp(1, 5).cpu().detach().numpy()"
   ]
  },
  {
   "cell_type": "code",
   "execution_count": null,
   "metadata": {},
   "outputs": [
    {
     "name": "stdout",
     "output_type": "stream",
     "text": [
      "min: 1.0\n",
      "max: 5.0\n",
      "mean: 3.824528217315674\n"
     ]
    },
    {
     "data": {
      "image/png": "[encoded data removed]",
      "text/plain": [
       "<Figure size 640x480 with 1 Axes>"
      ]
     },
     "metadata": {},
     "output_type": "display_data"
    }
   ],
   "source": [
    "# check min and max of final_ratings\n",
    "print(\"min:\", final_ratings.min().item())\n",
    "print(\"max:\", final_ratings.max().item())\n",
    "print(\"mean:\", final_ratings.mean().item())\n",
    "\n",
    "# check distribution of final_ratings\n",
    "plt.hist(final_ratings.flatten(), bins=100)\n",
    "plt.show()"
   ]
  },
  {
   "cell_type": "markdown",
   "metadata": {},
   "source": [
    "# 5. Submission"
   ]
  },
  {
   "cell_type": "code",
   "execution_count": null,
   "metadata": {},
   "outputs": [],
   "source": [
    "# save submission\n",
    "\n",
    "def to_submission_format(users, movies, predictions):\n",
    "    return pd.DataFrame(data={'Id': ['r{}_c{}'.format(user + 1, movie + 1) for user, movie in zip(users, movies)],\n",
    "                              'Prediction': predictions})\n",
    "\n",
    "submission = to_submission_format(submission_users, submission_movies, final_ratings)\n",
    "\n",
    "submission.to_csv('submission.csv', index=False)"
   ]
  },
  {
   "cell_type": "markdown",
   "metadata": {},
   "source": [
    "# 6. Save model\n",
    "\n",
    "We save the model that achieved best performance on Kaggle, just in case."
   ]
  },
  {
   "cell_type": "code",
   "execution_count": null,
   "metadata": {},
   "outputs": [],
   "source": [
    "# Flag for saving\n",
    "KAGGLE_BEST = False\n",
    "\n",
    "# Save model\n",
    "if KAGGLE_BEST:\n",
    "    torch.save(model, f'kaggle_model.pth')"
   ]
  },
  {
   "cell_type": "code",
   "execution_count": null,
   "metadata": {},
   "outputs": [],
   "source": []
  }
 ],
 "metadata": {
  "kernelspec": {
   "display_name": "Python 3",
   "language": "python",
   "name": "python3"
  },
  "language_info": {
   "codemirror_mode": {
    "name": "ipython",
    "version": 3
   },
   "file_extension": ".py",
   "mimetype": "text/x-python",
   "name": "python",
   "nbconvert_exporter": "python",
   "pygments_lexer": "ipython3",
   "version": "3.9.6"
  }
 },
 "nbformat": 4,
 "nbformat_minor": 2
}
